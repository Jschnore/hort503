{
 "cells": [
  {
   "cell_type": "markdown",
   "metadata": {},
   "source": [
    "# Practice Notebook"
   ]
  },
  {
   "cell_type": "markdown",
   "metadata": {},
   "source": [
    "### Setup\n",
    "\n",
    "Import any packages you need in the following cell."
   ]
  },
  {
   "cell_type": "code",
   "execution_count": 34,
   "metadata": {},
   "outputs": [],
   "source": [
    "{\n",
    " \"cells\": [\n",
    "  {\n",
    "   \"cell_type\": \"markdown\",\n",
    "   \"metadata\": {},\n",
    "   \"source\": [\n",
    "    \"# Practice Exercises\\n\",\n",
    "    \"\\n\",\n",
    "    \"*Appying `numpy` to Conway's Game of Life.*\\n\",\n",
    "    \"\\n\",\n",
    "    \"We first introduced a model of the Game of Life as a way to introduce classes (objects). In this notebook we will instead use `numpy` to model the grid where our 'cells' live. Since it turns out that these cells do not require any more information that alive (1), or dead (0).\"\n",
    "   ]\n",
    "  },\n",
    "  {\n",
    "   \"cell_type\": \"markdown\",\n",
    "   \"metadata\": {},\n",
    "   \"source\": [\n",
    "    \"## *Task -- Setup*\\n\",\n",
    "    \"\\n\",\n",
    "    \"**Import `numpy` as `np`.**\"\n",
    "   ]\n",
    "  },\n",
    "  {\n",
    "   \"cell_type\": \"code\",\n",
    "   \"execution_count\": 80,\n",
    "   \"metadata\": {},\n",
    "   \"outputs\": [],\n",
    "   \"source\": [\n",
    "    \"# Setup imports.\\n\",\n",
    "    \"import numpy as np\"\n",
    "   ]\n",
    "  },\n",
    "  {\n",
    "   \"cell_type\": \"markdown\",\n",
    "   \"metadata\": {},\n",
    "   \"source\": [\n",
    "    \"# Questions\\n\",\n",
    "    \"\\n\",\n",
    "    \"\\n\"\n",
    "   ]\n",
    "  },\n",
    "  {\n",
    "   \"cell_type\": \"markdown\",\n",
    "   \"metadata\": {},\n",
    "   \"source\": [\n",
    "    \"```python\\n\",\n",
    "    \"who_array = np.array([[[2,3,4,5], [1,2,3,4]], [[5,6,7,8], [1,2,3,4]]])\\n\",\n",
    "    \"\\n\",\n",
    "    \"print(who_array)\\n\",\n",
    "    \"\\n\",\n",
    "    \"you_array = np.append(who_array, [[[7], [8]], [[9], [1]]], axis=2)\\n\",\n",
    "    \"\\n\",\n",
    "    \"print(\\\"\\\\n\\\")\\n\",\n",
    "    \"\\n\",\n",
    "    \"print(you_array)\\n\",\n",
    "    \"\\n\",\n",
    "    \"me_array = np.append(you_array, [[[7], [4], [5], [4]]], axis=1)\\n\",\n",
    "    \"\\n\",\n",
    "    \"print(\\\"\\\\n\\\")\\n\",\n",
    "    \"\\n\",\n",
    "    \"print(me_array)\\n\",\n",
    "    \"```\"\n",
    "   ]\n",
    "  },\n",
    "  {\n",
    "   \"cell_type\": \"code\",\n",
    "   \"execution_count\": 81,\n",
    "   \"metadata\": {},\n",
    "   \"outputs\": [\n",
    "    {\n",
    "     \"data\": {\n",
    "      \"text/plain\": [\n",
    "       \"array([[[2, 3, 4, 5],\\n\",\n",
    "       \"        [1, 2, 3, 4]],\\n\",\n",
    "       \"\\n\",\n",
    "       \"       [[5, 6, 7, 8],\\n\",\n",
    "       \"        [1, 2, 3, 4]]])\"\n",
    "      ]\n",
    "     },\n",
    "     \"execution_count\": 81,\n",
    "     \"metadata\": {},\n",
    "     \"output_type\": \"execute_result\"\n",
    "    }\n",
    "   ],\n",
    "   \"source\": [\n",
    "    \"who_array = np.array([[[2,3,4,5], [1,2,3,4]], [[5,6,7,8], [1,2,3,4]]])\\n\",\n",
    "    \"who_array\"\n",
    "   ]\n",
    "  },\n",
    "  {\n",
    "   \"cell_type\": \"code\",\n",
    "   \"execution_count\": 82,\n",
    "   \"metadata\": {},\n",
    "   \"outputs\": [\n",
    "    {\n",
    "     \"data\": {\n",
    "      \"text/plain\": [\n",
    "       \"(2, 2, 4)\"\n",
    "      ]\n",
    "     },\n",
    "     \"execution_count\": 82,\n",
    "     \"metadata\": {},\n",
    "     \"output_type\": \"execute_result\"\n",
    "    }\n",
    "   ],\n",
    "   \"source\": [\n",
    "    \"who_array.shape  # Dimsions 2, 0, 1\"\n",
    "   ]\n",
    "  },\n",
    "  {\n",
    "   \"cell_type\": \"code\",\n",
    "   \"execution_count\": 83,\n",
    "   \"metadata\": {},\n",
    "   \"outputs\": [\n",
    "    {\n",
    "     \"data\": {\n",
    "      \"text/plain\": [\n",
    "       \"array([[[2, 3, 4, 5, 7],\\n\",\n",
    "       \"        [1, 2, 3, 4, 8]],\\n\",\n",
    "       \"\\n\",\n",
    "       \"       [[5, 6, 7, 8, 9],\\n\",\n",
    "       \"        [1, 2, 3, 4, 1]]])\"\n",
    "      ]\n",
    "     },\n",
    "     \"execution_count\": 83,\n",
    "     \"metadata\": {},\n",
    "     \"output_type\": \"execute_result\"\n",
    "    }\n",
    "   ],\n",
    "   \"source\": [\n",
    "    \"np.append(who_array, [[[7], [8]], [[9], [1]]], axis=2)\"\n",
    "   ]\n",
    "  },\n",
    "  {\n",
    "   \"cell_type\": \"code\",\n",
    "   \"execution_count\": 84,\n",
    "   \"metadata\": {},\n",
    "   \"outputs\": [\n",
    "    {\n",
    "     \"data\": {\n",
    "      \"text/plain\": [\n",
    "       \"array([2, 3, 4, 5, 1, 2, 3, 4, 5, 6, 7, 8, 1, 2, 3, 4, 7, 8, 9, 1])\"\n",
    "      ]\n",
    "     },\n",
    "     \"execution_count\": 84,\n",
    "     \"metadata\": {},\n",
    "     \"output_type\": \"execute_result\"\n",
    "    }\n",
    "   ],\n",
    "   \"source\": [\n",
    "    \"np.append(who_array, np.array([7, 8, 9, 1]))\"\n",
    "   ]\n",
    "  },\n",
    "  {\n",
    "   \"cell_type\": \"markdown\",\n",
    "   \"metadata\": {},\n",
    "   \"source\": [\n",
    "    \"*Dimension Detail*\"\n",
    "   ]\n",
    "  },\n",
    "  {\n",
    "   \"cell_type\": \"code\",\n",
    "   \"execution_count\": 85,\n",
    "   \"metadata\": {},\n",
    "   \"outputs\": [\n",
    "    {\n",
    "     \"data\": {\n",
    "      \"text/plain\": [\n",
    "       \"array([7, 8, 9, 1])\"\n",
    "      ]\n",
    "     },\n",
    "     \"execution_count\": 85,\n",
    "     \"metadata\": {},\n",
    "     \"output_type\": \"execute_result\"\n",
    "    }\n",
    "   ],\n",
    "   \"source\": [\n",
    "    \"new_array = np.array([7, 8, 9, 1])\\n\",\n",
    "    \"new_array\"\n",
    "   ]\n",
    "  },\n",
    "  {\n",
    "   \"cell_type\": \"code\",\n",
    "   \"execution_count\": 86,\n",
    "   \"metadata\": {},\n",
    "   \"outputs\": [\n",
    "    {\n",
    "     \"data\": {\n",
    "      \"text/plain\": [\n",
    "       \"(4,)\"\n",
    "      ]\n",
    "     },\n",
    "     \"execution_count\": 86,\n",
    "     \"metadata\": {},\n",
    "     \"output_type\": \"execute_result\"\n",
    "    }\n",
    "   ],\n",
    "   \"source\": [\n",
    "    \"new_array.shape\"\n",
    "   ]\n",
    "  },\n",
    "  {\n",
    "   \"cell_type\": \"markdown\",\n",
    "   \"metadata\": {},\n",
    "   \"source\": [\n",
    "    \"We are trying to add to what dimension?\"\n",
    "   ]\n",
    "  },\n",
    "  {\n",
    "   \"cell_type\": \"code\",\n",
    "   \"execution_count\": 87,\n",
    "   \"metadata\": {},\n",
    "   \"outputs\": [\n",
    "    {\n",
    "     \"data\": {\n",
    "      \"text/plain\": [\n",
    "       \"array([[[2, 3, 4, 5],\\n\",\n",
    "       \"        [1, 2, 3, 4]],\\n\",\n",
    "       \"\\n\",\n",
    "       \"       [[5, 6, 7, 8],\\n\",\n",
    "       \"        [1, 2, 3, 4]]])\"\n",
    "      ]\n",
    "     },\n",
    "     \"execution_count\": 87,\n",
    "     \"metadata\": {},\n",
    "     \"output_type\": \"execute_result\"\n",
    "    }\n",
    "   ],\n",
    "   \"source\": [\n",
    "    \"who_array[:, :, :]  # Get an entire copy, one slice per dimension.\"\n",
    "   ]\n",
    "  },\n",
    "  {\n",
    "   \"cell_type\": \"code\",\n",
    "   \"execution_count\": 88,\n",
    "   \"metadata\": {},\n",
    "   \"outputs\": [\n",
    "    {\n",
    "     \"data\": {\n",
    "      \"text/plain\": [\n",
    "       \"array([[[2, 3, 4, 5],\\n\",\n",
    "       \"        [1, 2, 3, 4]],\\n\",\n",
    "       \"\\n\",\n",
    "       \"       [[5, 6, 7, 8],\\n\",\n",
    "       \"        [1, 2, 3, 4]]])\"\n",
    "      ]\n",
    "     },\n",
    "     \"execution_count\": 88,\n",
    "     \"metadata\": {},\n",
    "     \"output_type\": \"execute_result\"\n",
    "    }\n",
    "   ],\n",
    "   \"source\": [\n",
    "    \"who_array[...]  # Another way.\"\n",
    "   ]\n",
    "  },\n",
    "  {\n",
    "   \"cell_type\": \"code\",\n",
    "   \"execution_count\": 89,\n",
    "   \"metadata\": {},\n",
    "   \"outputs\": [\n",
    "    {\n",
    "     \"data\": {\n",
    "      \"text/plain\": [\n",
    "       \"array([[5, 4],\\n\",\n",
    "       \"       [8, 4]])\"\n",
    "      ]\n",
    "     },\n",
    "     \"execution_count\": 89,\n",
    "     \"metadata\": {},\n",
    "     \"output_type\": \"execute_result\"\n",
    "    }\n",
    "   ],\n",
    "   \"source\": [\n",
    "    \"who_array[:, :, -1]  # Slice the last element from each dimension.\"\n",
    "   ]\n",
    "  },\n",
    "  {\n",
    "   \"cell_type\": \"code\",\n",
    "   \"execution_count\": 90,\n",
    "   \"metadata\": {},\n",
    "   \"outputs\": [\n",
    "    {\n",
    "     \"data\": {\n",
    "      \"text/plain\": [\n",
    "       \"array([[1, 2, 3, 4],\\n\",\n",
    "       \"       [1, 2, 3, 4]])\"\n",
    "      ]\n",
    "     },\n",
    "     \"execution_count\": 90,\n",
    "     \"metadata\": {},\n",
    "     \"output_type\": \"execute_result\"\n",
    "    }\n",
    "   ],\n",
    "   \"source\": [\n",
    "    \"who_array[:, -1, :]\"\n",
    "   ]\n",
    "  },\n",
    "  {\n",
    "   \"cell_type\": \"code\",\n",
    "   \"execution_count\": 91,\n",
    "   \"metadata\": {},\n",
    "   \"outputs\": [\n",
    "    {\n",
    "     \"data\": {\n",
    "      \"text/plain\": [\n",
    "       \"array([[5, 6, 7, 8],\\n\",\n",
    "       \"       [1, 2, 3, 4]])\"\n",
    "      ]\n",
    "     },\n",
    "     \"execution_count\": 91,\n",
    "     \"metadata\": {},\n",
    "     \"output_type\": \"execute_result\"\n",
    "    }\n",
    "   ],\n",
    "   \"source\": [\n",
    "    \"who_array[-1, :, :]\"\n",
    "   ]\n",
    "  },\n",
    "  {\n",
    "   \"cell_type\": \"markdown\",\n",
    "   \"metadata\": {},\n",
    "   \"source\": [\n",
    "    \"We want to add on to dimension `1`. What is the dimension of the slice we retrived?\"\n",
    "   ]\n",
    "  },\n",
    "  {\n",
    "   \"cell_type\": \"code\",\n",
    "   \"execution_count\": 92,\n",
    "   \"metadata\": {},\n",
    "   \"outputs\": [\n",
    "    {\n",
    "     \"data\": {\n",
    "      \"text/plain\": [\n",
    "       \"(2, 2)\"\n",
    "      ]\n",
    "     },\n",
    "     \"execution_count\": 92,\n",
    "     \"metadata\": {},\n",
    "     \"output_type\": \"execute_result\"\n",
    "    }\n",
    "   ],\n",
    "   \"source\": [\n",
    "    \"who_array[:, :, -1].shape\"\n",
    "   ]\n",
    "  },\n",
    "  {\n",
    "   \"cell_type\": \"code\",\n",
    "   \"execution_count\": 93,\n",
    "   \"metadata\": {},\n",
    "   \"outputs\": [\n",
    "    {\n",
    "     \"data\": {\n",
    "      \"text/plain\": [\n",
    "       \"array([[[7],\\n\",\n",
    "       \"        [8]],\\n\",\n",
    "       \"\\n\",\n",
    "       \"       [[9],\\n\",\n",
    "       \"        [1]]])\"\n",
    "      ]\n",
    "     },\n",
    "     \"execution_count\": 93,\n",
    "     \"metadata\": {},\n",
    "     \"output_type\": \"execute_result\"\n",
    "    }\n",
    "   ],\n",
    "   \"source\": [\n",
    "    \"new_array.reshape(2, 2, 1)\"\n",
    "   ]\n",
    "  },\n",
    "  {\n",
    "   \"cell_type\": \"code\",\n",
    "   \"execution_count\": 94,\n",
    "   \"metadata\": {},\n",
    "   \"outputs\": [\n",
    "    {\n",
    "     \"data\": {\n",
    "      \"text/plain\": [\n",
    "       \"array([[[2, 3, 4, 5, 7],\\n\",\n",
    "       \"        [1, 2, 3, 4, 8]],\\n\",\n",
    "       \"\\n\",\n",
    "       \"       [[5, 6, 7, 8, 9],\\n\",\n",
    "       \"        [1, 2, 3, 4, 1]]])\"\n",
    "      ]\n",
    "     },\n",
    "     \"execution_count\": 94,\n",
    "     \"metadata\": {},\n",
    "     \"output_type\": \"execute_result\"\n",
    "    }\n",
    "   ],\n",
    "   \"source\": [\n",
    "    \"np.append(who_array, new_array.reshape(2, 2, 1), axis=2)\"\n",
    "   ]\n",
    "  },\n",
    "  {\n",
    "   \"cell_type\": \"markdown\",\n",
    "   \"metadata\": {},\n",
    "   \"source\": [\n",
    "    \"Or, in the documentation, under **Array manipulation routines**:\\n\",\n",
    "    \"\\n\",\n",
    "    \">...  \\n\",\n",
    "    \"`dstack(tup)` \\tStack arrays in sequence depth wise (along third axis).  \\n\",\n",
    "    \"`hstack(tup)`\\tStack arrays in sequence horizontally (column wise).  \\n\",\n",
    "    \"`vstack(tup)` \\tStack arrays in sequence vertically (row wise).  \\n\",\n",
    "    \"...\"\n",
    "   ]\n",
    "  },\n",
    "  {\n",
    "   \"cell_type\": \"code\",\n",
    "   \"execution_count\": 95,\n",
    "   \"metadata\": {},\n",
    "   \"outputs\": [\n",
    "    {\n",
    "     \"data\": {\n",
    "      \"text/plain\": [\n",
    "       \"array([[[2, 3, 4, 5, 7],\\n\",\n",
    "       \"        [1, 2, 3, 4, 8]],\\n\",\n",
    "       \"\\n\",\n",
    "       \"       [[5, 6, 7, 8, 9],\\n\",\n",
    "       \"        [1, 2, 3, 4, 1]]])\"\n",
    "      ]\n",
    "     },\n",
    "     \"execution_count\": 95,\n",
    "     \"metadata\": {},\n",
    "     \"output_type\": \"execute_result\"\n",
    "    }\n",
    "   ],\n",
    "   \"source\": [\n",
    "    \"np.dstack([who_array, new_array.reshape(2,2)])\"\n",
    "   ]\n",
    "  },\n",
    "  {\n",
    "   \"cell_type\": \"markdown\",\n",
    "   \"metadata\": {},\n",
    "   \"source\": [\n",
    "    \"## Game of Life Overview\\n\",\n",
    "    \"\\n\",\n",
    "    \"\\n\",\n",
    "    \"The rules, as summarized by [Wolfram Alpha](http://mathworld.wolfram.com/GameofLife.html).\\n\",\n",
    "    \"\\n\",\n",
    "    \"> All eight of the cells surrounding the current one are checked to see if they are on or not. Any cells that are on are counted, and this count is then used to determine what will happen to the current cell.\\n\",\n",
    "    \"1. **Death**: if the count is less than 2 or greater than 3, the current cell is switched off.\\n\",\n",
    "    \"2. **Survival**: if (a) the count is exactly 2, or (b) the count is exactly 3 and the current cell is on, the current cell is left unchanged.\\n\",\n",
    "    \"3. **Birth**: if the current cell is off and the count is exactly 3, the current cell is switched on. \\n\",\n",
    "    \"\\n\",\n",
    "    \"It turns out that some people are *really* into this game. There are a large number of solutions available online, we will look at a few, and consider our own.\\n\",\n",
    "    \"\\n\",\n",
    "    \"\\n\",\n",
    "    \"#### Solutions Examined\\n\",\n",
    "    \"\\n\",\n",
    "    \"+ [Peter Norvig](https://nbviewer.jupyter.org/url/norvig.com/ipython/Life.ipynb) -- *Does not model a grid, instead keeps track of a set of cells (as coordinate tuples), then draws a grid. Entire thing runs in a jupyter notebook. Writes great (and fast) code, but has a tendancy to rename (alias) builtins.*\\n\",\n",
    "    \"+ [Holoviews Solution](http://holoviews.org/gallery/apps/bokeh/game_of_life.html#bokeh-gallery-game-of-life) -- *This implementation is exceptionally brief, as it is able to use some features from the `Holoviews` package, for drawing and 'ticking' the world.*\\n\",\n",
    "    \"\\n\",\n",
    "    \"\\n\",\n",
    "    \"*General Information:*  \\n\",\n",
    "    \"+ [See How seriously people are in to this.](http://www.conwaylife.com/)\\n\",\n",
    "    \"+ [Wikipidia Ariticle](https://en.wikipedia.org/wiki/Conway%27s_Game_of_Life)\"\n",
    "   ]\n",
    "  },\n",
    "  {\n",
    "   \"cell_type\": \"markdown\",\n",
    "   \"metadata\": {},\n",
    "   \"source\": [\n",
    "    \"![Breader pattern](https://upload.wikimedia.org/wikipedia/commons/e/e6/Conways_game_of_life_breeder_animation.gif)\"\n",
    "   ]\n",
    "  },\n",
    "  {\n",
    "   \"cell_type\": \"markdown\",\n",
    "   \"metadata\": {},\n",
    "   \"source\": [\n",
    "    \"---\\n\",\n",
    "    \"\\n\",\n",
    "    \"## Keep it Simple\\n\",\n",
    "    \"\\n\",\n",
    "    \"*Walk through of a simple solution.*\\n\",\n",
    "    \"\\n\",\n",
    "    \"Get it working first. Then try to make it better.\\n\",\n",
    "    \"\\n\",\n",
    "    \"### Building a Grid\\n\",\n",
    "    \"\\n\",\n",
    "    \"Recall that there are 'array constructor' functions in numpy that are nice for building up arrays.\"\n",
    "   ]\n",
    "  },\n",
    "  {\n",
    "   \"cell_type\": \"code\",\n",
    "   \"execution_count\": 96,\n",
    "   \"metadata\": {},\n",
    "   \"outputs\": [\n",
    "    {\n",
    "     \"data\": {\n",
    "      \"text/plain\": [\n",
    "       \"array([[0., 0., 0., 0., 0., 0., 0., 0., 0., 0.],\\n\",\n",
    "       \"       [0., 0., 0., 0., 0., 0., 0., 0., 0., 0.],\\n\",\n",
    "       \"       [0., 0., 0., 0., 0., 0., 0., 0., 0., 0.],\\n\",\n",
    "       \"       [0., 0., 0., 0., 0., 0., 0., 0., 0., 0.],\\n\",\n",
    "       \"       [0., 0., 0., 0., 0., 0., 0., 0., 0., 0.],\\n\",\n",
    "       \"       [0., 0., 0., 0., 0., 0., 0., 0., 0., 0.],\\n\",\n",
    "       \"       [0., 0., 0., 0., 0., 0., 0., 0., 0., 0.],\\n\",\n",
    "       \"       [0., 0., 0., 0., 0., 0., 0., 0., 0., 0.],\\n\",\n",
    "       \"       [0., 0., 0., 0., 0., 0., 0., 0., 0., 0.],\\n\",\n",
    "       \"       [0., 0., 0., 0., 0., 0., 0., 0., 0., 0.]])\"\n",
    "      ]\n",
    "     },\n",
    "     \"execution_count\": 96,\n",
    "     \"metadata\": {},\n",
    "     \"output_type\": \"execute_result\"\n",
    "    }\n",
    "   ],\n",
    "   \"source\": [\n",
    "    \"# A 10 by 10 grid of dead cells.\\n\",\n",
    "    \"np.zeros((10, 10))\"\n",
    "   ]\n",
    "  },\n",
    "  {\n",
    "   \"cell_type\": \"markdown\",\n",
    "   \"metadata\": {},\n",
    "   \"source\": [\n",
    "    \"*Perhaps we want a randomly populated grid.*\\n\",\n",
    "    \"\\n\",\n",
    "    \"```python\\n\",\n",
    "    \"np.randint(low[, high, size, dtype])\\n\",\n",
    "    \"```\"\n",
    "   ]\n",
    "  },\n",
    "  {\n",
    "   \"cell_type\": \"code\",\n",
    "   \"execution_count\": 97,\n",
    "   \"metadata\": {},\n",
    "   \"outputs\": [\n",
    "    {\n",
    "     \"data\": {\n",
    "      \"text/plain\": [\n",
    "       \"array([[0, 1, 0, 0, 0, 1, 0, 0, 0, 1],\\n\",\n",
    "       \"       [0, 1, 1, 0, 1, 1, 0, 0, 1, 0],\\n\",\n",
    "       \"       [0, 0, 1, 0, 1, 1, 0, 0, 0, 1],\\n\",\n",
    "       \"       [1, 0, 0, 1, 0, 1, 0, 1, 1, 0],\\n\",\n",
    "       \"       [1, 1, 1, 0, 0, 0, 0, 0, 1, 1],\\n\",\n",
    "       \"       [0, 0, 1, 0, 0, 1, 0, 1, 0, 0],\\n\",\n",
    "       \"       [0, 0, 1, 0, 1, 1, 1, 1, 1, 1],\\n\",\n",
    "       \"       [0, 1, 1, 1, 1, 1, 0, 0, 0, 0],\\n\",\n",
    "       \"       [0, 1, 1, 0, 0, 1, 1, 1, 1, 1],\\n\",\n",
    "       \"       [1, 0, 1, 0, 1, 1, 0, 0, 0, 1]])\"\n",
    "      ]\n",
    "     },\n",
    "     \"execution_count\": 97,\n",
    "     \"metadata\": {},\n",
    "     \"output_type\": \"execute_result\"\n",
    "    }\n",
    "   ],\n",
    "   \"source\": [\n",
    "    \"np.random.randint(0, 2, (10, 10), np.int)\"\n",
    "   ]\n",
    "  },\n",
    "  {\n",
    "   \"cell_type\": \"markdown\",\n",
    "   \"metadata\": {},\n",
    "   \"source\": [\n",
    "    \"*These are all well and good, but if you want unique numbers to help wrap your head around indexing...*\"\n",
    "   ]\n",
    "  },\n",
    "  {\n",
    "   \"cell_type\": \"code\",\n",
    "   \"execution_count\": 98,\n",
    "   \"metadata\": {},\n",
    "   \"outputs\": [\n",
    "    {\n",
    "     \"data\": {\n",
    "      \"text/plain\": [\n",
    "       \"array([[ 0,  1,  2,  3,  4,  5,  6,  7,  8,  9],\\n\",\n",
    "       \"       [10, 11, 12, 13, 14, 15, 16, 17, 18, 19],\\n\",\n",
    "       \"       [20, 21, 22, 23, 24, 25, 26, 27, 28, 29],\\n\",\n",
    "       \"       [30, 31, 32, 33, 34, 35, 36, 37, 38, 39],\\n\",\n",
    "       \"       [40, 41, 42, 43, 44, 45, 46, 47, 48, 49],\\n\",\n",
    "       \"       [50, 51, 52, 53, 54, 55, 56, 57, 58, 59],\\n\",\n",
    "       \"       [60, 61, 62, 63, 64, 65, 66, 67, 68, 69],\\n\",\n",
    "       \"       [70, 71, 72, 73, 74, 75, 76, 77, 78, 79],\\n\",\n",
    "       \"       [80, 81, 82, 83, 84, 85, 86, 87, 88, 89],\\n\",\n",
    "       \"       [90, 91, 92, 93, 94, 95, 96, 97, 98, 99]])\"\n",
    "      ]\n",
    "     },\n",
    "     \"execution_count\": 98,\n",
    "     \"metadata\": {},\n",
    "     \"output_type\": \"execute_result\"\n",
    "    }\n",
    "   ],\n",
    "   \"source\": [\n",
    "    \"unique_grid = np.arange(0, 100).reshape((10, 10))\\n\",\n",
    "    \"unique_grid\"\n",
    "   ]\n",
    "  },\n",
    "  {\n",
    "   \"cell_type\": \"markdown\",\n",
    "   \"metadata\": {},\n",
    "   \"source\": [\n",
    "    \"### Determining Fates\\n\",\n",
    "    \"\\n\",\n",
    "    \"*We will now impose time and our cruel will upon these innocent worlds.*\\n\",\n",
    "    \"\\n\",\n",
    "    \"How can we calculate if a cell should live or die?\"\n",
    "   ]\n",
    "  },\n",
    "  {\n",
    "   \"cell_type\": \"code\",\n",
    "   \"execution_count\": 99,\n",
    "   \"metadata\": {},\n",
    "   \"outputs\": [],\n",
    "   \"source\": [\n",
    "    \"# Recall some indexing, start with getting just one cell.\\n\",\n",
    "    \"grid = np.random.randint(0, 2, (10, 10), np.int)\"\n",
    "   ]\n",
    "  },\n",
    "  {\n",
    "   \"cell_type\": \"code\",\n",
    "   \"execution_count\": 100,\n",
    "   \"metadata\": {},\n",
    "   \"outputs\": [\n",
    "    {\n",
    "     \"data\": {\n",
    "      \"text/plain\": [\n",
    "       \"array([0, 1, 2, 3, 4, 5, 6, 7, 8, 9])\"\n",
    "      ]\n",
    "     },\n",
    "     \"execution_count\": 100,\n",
    "     \"metadata\": {},\n",
    "     \"output_type\": \"execute_result\"\n",
    "    }\n",
    "   ],\n",
    "   \"source\": [\n",
    "    \"# These two calls are equivalent.\\n\",\n",
    "    \"assert all(unique_grid[0] == unique_grid[0, :])\\n\",\n",
    "    \"\\n\",\n",
    "    \"# Choose to be explicit when learning.\\n\",\n",
    "    \"unique_grid[0, :]  # A horizontal slize.\"\n",
    "   ]\n",
    "  },\n",
    "  {\n",
    "   \"cell_type\": \"code\",\n",
    "   \"execution_count\": 101,\n",
    "   \"metadata\": {},\n",
    "   \"outputs\": [\n",
    "    {\n",
    "     \"data\": {\n",
    "      \"text/plain\": [\n",
    "       \"array([ 0, 10, 20, 30, 40, 50, 60, 70, 80, 90])\"\n",
    "      ]\n",
    "     },\n",
    "     \"execution_count\": 101,\n",
    "     \"metadata\": {},\n",
    "     \"output_type\": \"execute_result\"\n",
    "    }\n",
    "   ],\n",
    "   \"source\": [\n",
    "    \"unique_grid[:, 0]  # A vertical slice.\"\n",
    "   ]\n",
    "  },\n",
    "  {\n",
    "   \"cell_type\": \"markdown\",\n",
    "   \"metadata\": {},\n",
    "   \"source\": [\n",
    "    \"Slices can be passed too.\"\n",
    "   ]\n",
    "  },\n",
    "  {\n",
    "   \"cell_type\": \"code\",\n",
    "   \"execution_count\": 102,\n",
    "   \"metadata\": {},\n",
    "   \"outputs\": [\n",
    "    {\n",
    "     \"data\": {\n",
    "      \"text/plain\": [\n",
    "       \"array([[ 0,  1,  2],\\n\",\n",
    "       \"       [10, 11, 12],\\n\",\n",
    "       \"       [20, 21, 22]])\"\n",
    "      ]\n",
    "     },\n",
    "     \"execution_count\": 102,\n",
    "     \"metadata\": {},\n",
    "     \"output_type\": \"execute_result\"\n",
    "    }\n",
    "   ],\n",
    "   \"source\": [\n",
    "    \"unique_grid[0:3, 0:3]\"\n",
    "   ]\n",
    "  },\n",
    "  {\n",
    "   \"cell_type\": \"code\",\n",
    "   \"execution_count\": 103,\n",
    "   \"metadata\": {},\n",
    "   \"outputs\": [\n",
    "    {\n",
    "     \"data\": {\n",
    "      \"text/plain\": [\n",
    "       \"array([[55, 56, 57],\\n\",\n",
    "       \"       [65, 66, 67],\\n\",\n",
    "       \"       [75, 76, 77]])\"\n",
    "      ]\n",
    "     },\n",
    "     \"execution_count\": 103,\n",
    "     \"metadata\": {},\n",
    "     \"output_type\": \"execute_result\"\n",
    "    }\n",
    "   ],\n",
    "   \"source\": [\n",
    "    \"unique_grid[5:8, 5:8]\"\n",
    "   ]\n",
    "  },\n",
    "  {\n",
    "   \"cell_type\": \"markdown\",\n",
    "   \"metadata\": {},\n",
    "   \"source\": [\n",
    "    \"### Looping of the Array\\n\",\n",
    "    \"\\n\",\n",
    "    \"If you want to loop over something in Python, don't bother with indexes unless you have a specific order you need to go through. Simply call the object in a loop.\\n\",\n",
    "    \"\\n\",\n",
    "    \"*This usually access the __iter__() function of a given object.*\"\n",
    "   ]\n",
    "  },\n",
    "  {\n",
    "   \"cell_type\": \"code\",\n",
    "   \"execution_count\": 104,\n",
    "   \"metadata\": {},\n",
    "   \"outputs\": [\n",
    "    {\n",
    "     \"name\": \"stdout\",\n",
    "     \"output_type\": \"stream\",\n",
    "     \"text\": [\n",
    "      \"[0 1 2 3 4 5 6 7 8 9]\\n\",\n",
    "      \"0\\n\",\n",
    "      \"1\\n\",\n",
    "      \"2\\n\",\n",
    "      \"3\\n\",\n",
    "      \"4\\n\",\n",
    "      \"5\\n\",\n",
    "      \"6\\n\",\n",
    "      \"7\\n\",\n",
    "      \"8\\n\",\n",
    "      \"9\\n\"\n",
    "     ]\n",
    "    }\n",
    "   ],\n",
    "   \"source\": [\n",
    "    \"for row in unique_grid:\\n\",\n",
    "    \"    print(row)\\n\",\n",
    "    \"    for item in row:\\n\",\n",
    "    \"        print(item)\\n\",\n",
    "    \"    break  # Stop this loop.\"\n",
    "   ]\n",
    "  },\n",
    "  {\n",
    "   \"cell_type\": \"markdown\",\n",
    "   \"metadata\": {},\n",
    "   \"source\": [\n",
    "    \"**I want my loop and I want my numbers together or I am taking my ball and going home.**\"\n",
    "   ]\n",
    "  },\n",
    "  {\n",
    "   \"cell_type\": \"code\",\n",
    "   \"execution_count\": 105,\n",
    "   \"metadata\": {},\n",
    "   \"outputs\": [\n",
    "    {\n",
    "     \"name\": \"stdout\",\n",
    "     \"output_type\": \"stream\",\n",
    "     \"text\": [\n",
    "      \"0 0\\n\",\n",
    "      \"0 1\\n\",\n",
    "      \"0 2\\n\",\n",
    "      \"0 3\\n\",\n",
    "      \"0 4\\n\",\n",
    "      \"0 5\\n\",\n",
    "      \"0 6\\n\",\n",
    "      \"0 7\\n\",\n",
    "      \"0 8\\n\",\n",
    "      \"0 9\\n\"\n",
    "     ]\n",
    "    }\n",
    "   ],\n",
    "   \"source\": [\n",
    "    \"for row_index, row in enumerate(unique_grid):\\n\",\n",
    "    \"    for col_index, cell in enumerate(row):\\n\",\n",
    "    \"        print(row_index, col_index)\\n\",\n",
    "    \"    break\"\n",
    "   ]\n",
    "  },\n",
    "  {\n",
    "   \"cell_type\": \"markdown\",\n",
    "   \"metadata\": {},\n",
    "   \"source\": [\n",
    "    \"### Getting the Neighbors\\n\",\n",
    "    \"\\n\",\n",
    "    \"*And your little dog, too.*\\n\",\n",
    "    \"\\n\",\n",
    "    \"With the grid, indexing and looping in their first forms, we are ready to start composing functions. Let's write a function that loops over a given grid, and prints the coordinates of its 8 neighbors.\\n\",\n",
    "    \"\\n\",\n",
    "    \"*We can make an easy start by using some code from above:*\"\n",
    "   ]\n",
    "  },\n",
    "  {\n",
    "   \"cell_type\": \"code\",\n",
    "   \"execution_count\": 106,\n",
    "   \"metadata\": {},\n",
    "   \"outputs\": [],\n",
    "   \"source\": [\n",
    "    \"def display_neighbor_coords(input_grid):\\n\",\n",
    "    \"    print(\\\"Showing current loop position...\\\")\\n\",\n",
    "    \"    for row_index, row in enumerate(input_grid):\\n\",\n",
    "    \"        for col_index, cell in enumerate(row):\\n\",\n",
    "    \"            print(row_index, col_index)\"\n",
    "   ]\n",
    "  },\n",
    "  {\n",
    "   \"cell_type\": \"markdown\",\n",
    "   \"metadata\": {},\n",
    "   \"source\": [\n",
    "    \"Test it with a smaller grid to avoid printing 100+ lines.\"\n",
    "   ]\n",
    "  },\n",
    "  {\n",
    "   \"cell_type\": \"code\",\n",
    "   \"execution_count\": 107,\n",
    "   \"metadata\": {},\n",
    "   \"outputs\": [\n",
    "    {\n",
    "     \"data\": {\n",
    "      \"text/plain\": [\n",
    "       \"array([[0, 1, 0],\\n\",\n",
    "       \"       [1, 1, 0],\\n\",\n",
    "       \"       [1, 1, 0]])\"\n",
    "      ]\n",
    "     },\n",
    "     \"execution_count\": 107,\n",
    "     \"metadata\": {},\n",
    "     \"output_type\": \"execute_result\"\n",
    "    }\n",
    "   ],\n",
    "   \"source\": [\n",
    "    \"test_grid = np.random.randint(0, 2, (3, 3), np.int)\\n\",\n",
    "    \"test_grid\"\n",
    "   ]\n",
    "  },\n",
    "  {\n",
    "   \"cell_type\": \"code\",\n",
    "   \"execution_count\": 108,\n",
    "   \"metadata\": {},\n",
    "   \"outputs\": [\n",
    "    {\n",
    "     \"name\": \"stdout\",\n",
    "     \"output_type\": \"stream\",\n",
    "     \"text\": [\n",
    "      \"Showing current loop position...\\n\",\n",
    "      \"0 0\\n\",\n",
    "      \"0 1\\n\",\n",
    "      \"0 2\\n\",\n",
    "      \"1 0\\n\",\n",
    "      \"1 1\\n\",\n",
    "      \"1 2\\n\",\n",
    "      \"2 0\\n\",\n",
    "      \"2 1\\n\",\n",
    "      \"2 2\\n\"\n",
    "     ]\n",
    "    }\n",
    "   ],\n",
    "   \"source\": [\n",
    "    \"display_neighbor_coords(test_grid)\"\n",
    "   ]\n",
    "  },\n",
    "  {\n",
    "   \"cell_type\": \"markdown\",\n",
    "   \"metadata\": {},\n",
    "   \"source\": [\n",
    "    \"Actually getting the neighbors is separate from the loop. Come to think of it... If we want to know the coordinates of anyones neighbors, we need only know their coordinates.\"\n",
    "   ]\n",
    "  },\n",
    "  {\n",
    "   \"cell_type\": \"code\",\n",
    "   \"execution_count\": 109,\n",
    "   \"metadata\": {},\n",
    "   \"outputs\": [],\n",
    "   \"source\": [\n",
    "    \"def get_neighbor_indexes(x, y):\\n\",\n",
    "    \"    \\\"\\\"\\\"Return a set of indexes of the 8 neighbors to x, y.\\\"\\\"\\\"\\n\",\n",
    "    \"    return  [(x - 1, y + 1), (x, y + 1), (x + 1, y + 1),\\n\",\n",
    "    \"             (x - 1, y    ),             (x + 1, y    ),  # My actual 'center' (x, y) is in the hole here.\\n\",\n",
    "    \"             (x - 1, y - 1), (x, y - 1), (x + 1, y - 1)]\"\n",
    "   ]\n",
    "  },\n",
    "  {\n",
    "   \"cell_type\": \"markdown\",\n",
    "   \"metadata\": {},\n",
    "   \"source\": [\n",
    "    \"Why tuples?\"\n",
    "   ]\n",
    "  },\n",
    "  {\n",
    "   \"cell_type\": \"code\",\n",
    "   \"execution_count\": 110,\n",
    "   \"metadata\": {},\n",
    "   \"outputs\": [\n",
    "    {\n",
    "     \"data\": {\n",
    "      \"text/plain\": [\n",
    "       \"[(-1, 1), (0, 1), (1, 1), (-1, 0), (1, 0), (-1, -1), (0, -1), (1, -1)]\"\n",
    "      ]\n",
    "     },\n",
    "     \"execution_count\": 110,\n",
    "     \"metadata\": {},\n",
    "     \"output_type\": \"execute_result\"\n",
    "    }\n",
    "   ],\n",
    "   \"source\": [\n",
    "    \"get_neighbor_indexes(0, 0)\"\n",
    "   ]\n",
    "  },\n",
    "  {\n",
    "   \"cell_type\": \"code\",\n",
    "   \"execution_count\": 111,\n",
    "   \"metadata\": {},\n",
    "   \"outputs\": [\n",
    "    {\n",
    "     \"data\": {\n",
    "      \"text/plain\": [\n",
    "       \"[(4, 6), (5, 6), (6, 6), (4, 5), (6, 5), (4, 4), (5, 4), (6, 4)]\"\n",
    "      ]\n",
    "     },\n",
    "     \"execution_count\": 111,\n",
    "     \"metadata\": {},\n",
    "     \"output_type\": \"execute_result\"\n",
    "    }\n",
    "   ],\n",
    "   \"source\": [\n",
    "    \"get_neighbor_indexes(5, 5)\"\n",
    "   ]\n",
    "  },\n",
    "  {\n",
    "   \"cell_type\": \"markdown\",\n",
    "   \"metadata\": {},\n",
    "   \"source\": [\n",
    "    \"Another approach would be to slice around the x, y location.\"\n",
    "   ]\n",
    "  },\n",
    "  {\n",
    "   \"cell_type\": \"code\",\n",
    "   \"execution_count\": 112,\n",
    "   \"metadata\": {},\n",
    "   \"outputs\": [],\n",
    "   \"source\": [\n",
    "    \"def get_neighbor_coors(grid, x, y):\\n\",\n",
    "    \"    return grid[x - 1 : x + 2, \\n\",\n",
    "    \"                y - 1 : y + 2]\"\n",
    "   ]\n",
    "  },\n",
    "  {\n",
    "   \"cell_type\": \"code\",\n",
    "   \"execution_count\": 113,\n",
    "   \"metadata\": {},\n",
    "   \"outputs\": [\n",
    "    {\n",
    "     \"data\": {\n",
    "      \"text/plain\": [\n",
    "       \"array([[11, 12, 13],\\n\",\n",
    "       \"       [21, 22, 23],\\n\",\n",
    "       \"       [31, 32, 33]])\"\n",
    "      ]\n",
    "     },\n",
    "     \"execution_count\": 113,\n",
    "     \"metadata\": {},\n",
    "     \"output_type\": \"execute_result\"\n",
    "    }\n",
    "   ],\n",
    "   \"source\": [\n",
    "    \"get_neighbor_coors(unique_grid, 2, 2)\"\n",
    "   ]\n",
    "  },\n",
    "  {\n",
    "   \"cell_type\": \"code\",\n",
    "   \"execution_count\": 114,\n",
    "   \"metadata\": {},\n",
    "   \"outputs\": [\n",
    "    {\n",
    "     \"data\": {\n",
    "      \"text/plain\": [\n",
    "       \"array([[46, 47, 48],\\n\",\n",
    "       \"       [56, 57, 58],\\n\",\n",
    "       \"       [66, 67, 68]])\"\n",
    "      ]\n",
    "     },\n",
    "     \"execution_count\": 114,\n",
    "     \"metadata\": {},\n",
    "     \"output_type\": \"execute_result\"\n",
    "    }\n",
    "   ],\n",
    "   \"source\": [\n",
    "    \"get_neighbor_coors(unique_grid, 5,7)  # Let's not concern ourselves with edge cases for now.\"\n",
    "   ]\n",
    "  },\n",
    "  {\n",
    "   \"cell_type\": \"markdown\",\n",
    "   \"metadata\": {},\n",
    "   \"source\": [\n",
    "    \"In this case we could apply another 'mask' of booleans to remove thie center point.\"\n",
    "   ]\n",
    "  },\n",
    "  {\n",
    "   \"cell_type\": \"code\",\n",
    "   \"execution_count\": 164,\n",
    "   \"metadata\": {},\n",
    "   \"outputs\": [\n",
    "    {\n",
    "     \"data\": {\n",
    "      \"text/plain\": [\n",
    "       \"array([[ True,  True,  True],\\n\",\n",
    "       \"       [ True, False,  True],\\n\",\n",
    "       \"       [ True,  True,  True]])\"\n",
    "      ]\n",
    "     },\n",
    "     \"execution_count\": 164,\n",
    "     \"metadata\": {},\n",
    "     \"output_type\": \"execute_result\"\n",
    "    }\n",
    "   ],\n",
    "   \"source\": [\n",
    "    \"bool_idx = np.array([[True, True, True], [True, False, True], [True, True, True]])\\n\",\n",
    "    \"bool_idx\"\n",
    "   ]\n",
    "  },\n",
    "  {\n",
    "   \"cell_type\": \"code\",\n",
    "   \"execution_count\": 165,\n",
    "   \"metadata\": {},\n",
    "   \"outputs\": [\n",
    "    {\n",
    "     \"data\": {\n",
    "      \"text/plain\": [\n",
    "       \"array([11, 12, 13, 21, 23, 31, 32, 33])\"\n",
    "      ]\n",
    "     },\n",
    "     \"execution_count\": 165,\n",
    "     \"metadata\": {},\n",
    "     \"output_type\": \"execute_result\"\n",
    "    }\n",
    "   ],\n",
    "   \"source\": [\n",
    "    \"get_neighbor_coors(unique_grid, 2, 2)[bool_idx]\"\n",
    "   ]\n",
    "  },\n",
    "  {\n",
    "   \"cell_type\": \"markdown\",\n",
    "   \"metadata\": {},\n",
    "   \"source\": [\n",
    "    \"## Consider the Life and Death Conditions\\n\",\n",
    "    \"\\n\",\n",
    "    \"First lets finalize an application of our neighbor fetching to a grid of 0 and 1.\"\n",
    "   ]\n",
    "  },\n",
    "  {\n",
    "   \"cell_type\": \"code\",\n",
    "   \"execution_count\": 117,\n",
    "   \"metadata\": {},\n",
    "   \"outputs\": [\n",
    "    {\n",
    "     \"data\": {\n",
    "      \"text/plain\": [\n",
    "       \"array([[0, 1, 0, 1, 1, 0, 1, 1, 0, 0],\\n\",\n",
    "       \"       [1, 1, 1, 0, 1, 1, 1, 0, 0, 0],\\n\",\n",
    "       \"       [1, 0, 0, 1, 0, 0, 0, 0, 1, 0],\\n\",\n",
    "       \"       [0, 1, 1, 1, 1, 0, 0, 0, 1, 0],\\n\",\n",
    "       \"       [0, 0, 1, 1, 1, 0, 0, 0, 1, 0],\\n\",\n",
    "       \"       [1, 1, 0, 1, 0, 0, 1, 0, 0, 0],\\n\",\n",
    "       \"       [0, 1, 0, 0, 1, 0, 0, 1, 0, 0],\\n\",\n",
    "       \"       [1, 1, 1, 1, 0, 1, 0, 1, 0, 0],\\n\",\n",
    "       \"       [1, 1, 0, 1, 0, 0, 1, 0, 1, 0],\\n\",\n",
    "       \"       [1, 1, 1, 0, 1, 1, 1, 1, 1, 1]])\"\n",
    "      ]\n",
    "     },\n",
    "     \"execution_count\": 117,\n",
    "     \"metadata\": {},\n",
    "     \"output_type\": \"execute_result\"\n",
    "    }\n",
    "   ],\n",
    "   \"source\": [\n",
    "    \"grid = np.random.randint(0, 2, (10, 10), np.int)\\n\",\n",
    "    \"grid\"\n",
    "   ]\n",
    "  },\n",
    "  {\n",
    "   \"cell_type\": \"code\",\n",
    "   \"execution_count\": 118,\n",
    "   \"metadata\": {},\n",
    "   \"outputs\": [],\n",
    "   \"source\": [\n",
    "    \"def neighbors_1(grid, x, y):\\n\",\n",
    "    \"    return [grid[coords] for coords in get_neighbor_indexes(x, y)]\"\n",
    "   ]\n",
    "  },\n",
    "  {\n",
    "   \"cell_type\": \"code\",\n",
    "   \"execution_count\": 119,\n",
    "   \"metadata\": {},\n",
    "   \"outputs\": [\n",
    "    {\n",
    "     \"data\": {\n",
    "      \"text/plain\": [\n",
    "       \"[13, 23, 33, 12, 32, 11, 21, 31]\"\n",
    "      ]\n",
    "     },\n",
    "     \"execution_count\": 119,\n",
    "     \"metadata\": {},\n",
    "     \"output_type\": \"execute_result\"\n",
    "    }\n",
    "   ],\n",
    "   \"source\": [\n",
    "    \"neighbors_1(unique_grid, 2, 2)\"\n",
    "   ]\n",
    "  },\n",
    "  {\n",
    "   \"cell_type\": \"code\",\n",
    "   \"execution_count\": 120,\n",
    "   \"metadata\": {},\n",
    "   \"outputs\": [\n",
    "    {\n",
    "     \"data\": {\n",
    "      \"text/plain\": [\n",
    "       \"[0, 1, 1, 1, 1, 1, 0, 1]\"\n",
    "      ]\n",
    "     },\n",
    "     \"execution_count\": 120,\n",
    "     \"metadata\": {},\n",
    "     \"output_type\": \"execute_result\"\n",
    "    }\n",
    "   ],\n",
    "   \"source\": [\n",
    "    \"neighbors_1(grid, 2, 2)\"\n",
    "   ]\n",
    "  },\n",
    "  {\n",
    "   \"cell_type\": \"code\",\n",
    "   \"execution_count\": 121,\n",
    "   \"metadata\": {},\n",
    "   \"outputs\": [],\n",
    "   \"source\": [\n",
    "    \"def neighbors_2(grid, x, y):\\n\",\n",
    "    \"    bool_idx = np.array([[True, True, True], [True, False, True], [True, True, True]])\\n\",\n",
    "    \"    return get_neighbor_coors(grid, x, y)[bool_idx]\"\n",
    "   ]\n",
    "  },\n",
    "  {\n",
    "   \"cell_type\": \"code\",\n",
    "   \"execution_count\": 122,\n",
    "   \"metadata\": {},\n",
    "   \"outputs\": [\n",
    "    {\n",
    "     \"data\": {\n",
    "      \"text/plain\": [\n",
    "       \"array([11, 12, 13, 21, 23, 31, 32, 33])\"\n",
    "      ]\n",
    "     },\n",
    "     \"execution_count\": 122,\n",
    "     \"metadata\": {},\n",
    "     \"output_type\": \"execute_result\"\n",
    "    }\n",
    "   ],\n",
    "   \"source\": [\n",
    "    \"neighbors_2(unique_grid, 2, 2)\"\n",
    "   ]\n",
    "  },\n",
    "  {\n",
    "   \"cell_type\": \"code\",\n",
    "   \"execution_count\": 123,\n",
    "   \"metadata\": {},\n",
    "   \"outputs\": [\n",
    "    {\n",
    "     \"data\": {\n",
    "      \"text/plain\": [\n",
    "       \"array([1, 1, 0, 0, 1, 1, 1, 1])\"\n",
    "      ]\n",
    "     },\n",
    "     \"execution_count\": 123,\n",
    "     \"metadata\": {},\n",
    "     \"output_type\": \"execute_result\"\n",
    "    }\n",
    "   ],\n",
    "   \"source\": [\n",
    "    \"neighbors_2(grid, 2, 2)\"\n",
    "   ]\n",
    "  },\n",
    "  {\n",
    "   \"cell_type\": \"markdown\",\n",
    "   \"metadata\": {},\n",
    "   \"source\": [\n",
    "    \"## Calculating Life and Death\\n\",\n",
    "    \"\\n\",\n",
    "    \"> All eight of the cells surrounding the current one are checked to see if they are on or not. Any cells that are on are counted, and this count is then used to determine what will happen to the current cell.\\n\",\n",
    "    \"1. **Death**: if the count is less than 2 or greater than 3, the current cell is switched off.\\n\",\n",
    "    \"2. **Survival**: if (a) the count is exactly 2, or (b) the count is exactly 3 and the current cell is on, the current cell is left unchanged.\\n\",\n",
    "    \"3. **Birth**: if the current cell is off and the count is exactly 3, the current cell is switched on. \"\n",
    "   ]\n",
    "  },\n",
    "  {\n",
    "   \"cell_type\": \"code\",\n",
    "   \"execution_count\": 124,\n",
    "   \"metadata\": {},\n",
    "   \"outputs\": [],\n",
    "   \"source\": [\n",
    "    \"def determine_fate(grid, x, y):\\n\",\n",
    "    \"    \\n\",\n",
    "    \"    neighbors = neighbors_2(grid, x, y)\\n\",\n",
    "    \"    \\n\",\n",
    "    \"    xy_state = grid[(x, y)]\\n\",\n",
    "    \"\\n\",\n",
    "    \"    print(f\\\"Center cell state: {xy_state}\\\")\\n\",\n",
    "    \"    \\n\",\n",
    "    \"    alive_neighbors = np.sum(neighbors)\\n\",\n",
    "    \"    print(f\\\"Alive neighbors: {alive_neighbors}\\\")\\n\",\n",
    "    \"    \\n\",\n",
    "    \"    if xy_state == 0 and alive_neighbors == 3:\\n\",\n",
    "    \"        print('Birth!')\\n\",\n",
    "    \"        return 1\\n\",\n",
    "    \"    \\n\",\n",
    "    \"    if xy_state == 1 and (alive_neighbors == 2 or alive_neighbors == 3):\\n\",\n",
    "    \"        print('Staying alive.')\\n\",\n",
    "    \"        return 1\\n\",\n",
    "    \"    \\n\",\n",
    "    \"    if xy_state == 1 and (alive_neighbors < 2 or alive_neighbors > 3):\\n\",\n",
    "    \"        print('Another one bites the dust.')\\n\",\n",
    "    \"        return 0\\n\",\n",
    "    \"\\n\",\n",
    "    \"    return None  # This is not needed, it is implicit.\"\n",
    "   ]\n",
    "  },\n",
    "  {\n",
    "   \"cell_type\": \"code\",\n",
    "   \"execution_count\": 125,\n",
    "   \"metadata\": {},\n",
    "   \"outputs\": [\n",
    "    {\n",
    "     \"name\": \"stdout\",\n",
    "     \"output_type\": \"stream\",\n",
    "     \"text\": [\n",
    "      \"Center cell state: 1\\n\",\n",
    "      \"Alive neighbors: 6\\n\",\n",
    "      \"Another one bites the dust.\\n\"\n",
    "     ]\n",
    "    },\n",
    "    {\n",
    "     \"data\": {\n",
    "      \"text/plain\": [\n",
    "       \"0\"\n",
    "      ]\n",
    "     },\n",
    "     \"execution_count\": 125,\n",
    "     \"metadata\": {},\n",
    "     \"output_type\": \"execute_result\"\n",
    "    }\n",
    "   ],\n",
    "   \"source\": [\n",
    "    \"determine_fate(grid, 3, 3)\"\n",
    "   ]\n",
    "  },\n",
    "  {\n",
    "   \"cell_type\": \"markdown\",\n",
    "   \"metadata\": {},\n",
    "   \"source\": [\n",
    "    \"If only we could test it...\"\n",
    "   ]\n",
    "  },\n",
    "  {\n",
    "   \"cell_type\": \"code\",\n",
    "   \"execution_count\": 126,\n",
    "   \"metadata\": {},\n",
    "   \"outputs\": [],\n",
    "   \"source\": [\n",
    "    \"# Nothing should happen here.\\n\",\n",
    "    \"test_1 = np.array([\\n\",\n",
    "    \"    [0, 0, 0],\\n\",\n",
    "    \"    [0, 0, 0],\\n\",\n",
    "    \"    [0, 0, 0]\\n\",\n",
    "    \"])\\n\",\n",
    "    \"\\n\",\n",
    "    \"# This cell should perish.\\n\",\n",
    "    \"test_2 = np.array([\\n\",\n",
    "    \"    [0, 0, 0],\\n\",\n",
    "    \"    [0, 1, 0],\\n\",\n",
    "    \"    [0, 0, 0]\\n\",\n",
    "    \"])\\n\",\n",
    "    \"\\n\",\n",
    "    \"# This cell should be born.\\n\",\n",
    "    \"test_3 = np.array([\\n\",\n",
    "    \"    [0, 1, 0],\\n\",\n",
    "    \"    [0, 0, 1],\\n\",\n",
    "    \"    [0, 1, 0]\\n\",\n",
    "    \"])\\n\",\n",
    "    \"\\n\",\n",
    "    \"\\n\",\n",
    "    \"# This cell should live.\\n\",\n",
    "    \"test_4 = np.array([\\n\",\n",
    "    \"    [0, 0, 0],\\n\",\n",
    "    \"    [0, 1, 0],\\n\",\n",
    "    \"    [0, 1, 1]\\n\",\n",
    "    \"])\"\n",
    "   ]\n",
    "  },\n",
    "  {\n",
    "   \"cell_type\": \"markdown\",\n",
    "   \"metadata\": {},\n",
    "   \"source\": [\n",
    "    \"`(1, 1)` should be the center, and the desired 'test cell'.\"\n",
    "   ]\n",
    "  },\n",
    "  {\n",
    "   \"cell_type\": \"code\",\n",
    "   \"execution_count\": 127,\n",
    "   \"metadata\": {},\n",
    "   \"outputs\": [\n",
    "    {\n",
    "     \"name\": \"stdout\",\n",
    "     \"output_type\": \"stream\",\n",
    "     \"text\": [\n",
    "      \"Center cell state: 0\\n\",\n",
    "      \"Alive neighbors: 0\\n\"\n",
    "     ]\n",
    "    }\n",
    "   ],\n",
    "   \"source\": [\n",
    "    \"determine_fate(test_1, 1, 1)\"\n",
    "   ]\n",
    "  },\n",
    "  {\n",
    "   \"cell_type\": \"code\",\n",
    "   \"execution_count\": 128,\n",
    "   \"metadata\": {},\n",
    "   \"outputs\": [\n",
    "    {\n",
    "     \"name\": \"stdout\",\n",
    "     \"output_type\": \"stream\",\n",
    "     \"text\": [\n",
    "      \"Center cell state: 1\\n\",\n",
    "      \"Alive neighbors: 0\\n\",\n",
    "      \"Another one bites the dust.\\n\"\n",
    "     ]\n",
    "    },\n",
    "    {\n",
    "     \"data\": {\n",
    "      \"text/plain\": [\n",
    "       \"0\"\n",
    "      ]\n",
    "     },\n",
    "     \"execution_count\": 128,\n",
    "     \"metadata\": {},\n",
    "     \"output_type\": \"execute_result\"\n",
    "    }\n",
    "   ],\n",
    "   \"source\": [\n",
    "    \"determine_fate(test_2, 1, 1)\"\n",
    "   ]\n",
    "  },\n",
    "  {\n",
    "   \"cell_type\": \"code\",\n",
    "   \"execution_count\": 129,\n",
    "   \"metadata\": {},\n",
    "   \"outputs\": [\n",
    "    {\n",
    "     \"name\": \"stdout\",\n",
    "     \"output_type\": \"stream\",\n",
    "     \"text\": [\n",
    "      \"Center cell state: 0\\n\",\n",
    "      \"Alive neighbors: 3\\n\",\n",
    "      \"Birth!\\n\"\n",
    "     ]\n",
    "    },\n",
    "    {\n",
    "     \"data\": {\n",
    "      \"text/plain\": [\n",
    "       \"1\"\n",
    "      ]\n",
    "     },\n",
    "     \"execution_count\": 129,\n",
    "     \"metadata\": {},\n",
    "     \"output_type\": \"execute_result\"\n",
    "    }\n",
    "   ],\n",
    "   \"source\": [\n",
    "    \"determine_fate(test_3, 1, 1)\"\n",
    "   ]\n",
    "  },\n",
    "  {\n",
    "   \"cell_type\": \"code\",\n",
    "   \"execution_count\": 130,\n",
    "   \"metadata\": {},\n",
    "   \"outputs\": [\n",
    "    {\n",
    "     \"name\": \"stdout\",\n",
    "     \"output_type\": \"stream\",\n",
    "     \"text\": [\n",
    "      \"Center cell state: 1\\n\",\n",
    "      \"Alive neighbors: 2\\n\",\n",
    "      \"Staying alive.\\n\"\n",
    "     ]\n",
    "    },\n",
    "    {\n",
    "     \"data\": {\n",
    "      \"text/plain\": [\n",
    "       \"1\"\n",
    "      ]\n",
    "     },\n",
    "     \"execution_count\": 130,\n",
    "     \"metadata\": {},\n",
    "     \"output_type\": \"execute_result\"\n",
    "    }\n",
    "   ],\n",
    "   \"source\": [\n",
    "    \"determine_fate(test_4, 1, 1)\"\n",
    "   ]\n",
    "  },\n",
    "  {\n",
    "   \"cell_type\": \"markdown\",\n",
    "   \"metadata\": {},\n",
    "   \"source\": [\n",
    "    \"# Time\"\n",
    "   ]\n",
    "  },\n",
    "  {\n",
    "   \"cell_type\": \"code\",\n",
    "   \"execution_count\": 131,\n",
    "   \"metadata\": {},\n",
    "   \"outputs\": [],\n",
    "   \"source\": [\n",
    "    \"import time\"\n",
    "   ]\n",
    "  },\n",
    "  {\n",
    "   \"cell_type\": \"code\",\n",
    "   \"execution_count\": 143,\n",
    "   \"metadata\": {},\n",
    "   \"outputs\": [],\n",
    "   \"source\": [\n",
    "    \"def run_world(grid, ticks=1000):\\n\",\n",
    "    \"    \\n\",\n",
    "    \"    for t in np.arange(ticks):\\n\",\n",
    "    \"        \\n\",\n",
    "    \"        # Calculate the fate of the cells.\\n\",\n",
    "    \"        \\n\",\n",
    "    \"        # Update (or replace) the grid.\\n\",\n",
    "    \"        \\n\",\n",
    "    \"        # Display the new grid.\\n\",\n",
    "    \"        \\n\",\n",
    "    \"        # Wait for the humans to grow complacent.\\n\",\n",
    "    \"        time.sleep(0.05)  # 1/20 seconds.\"\n",
    "   ]\n",
    "  },\n",
    "  {\n",
    "   \"cell_type\": \"markdown\",\n",
    "   \"metadata\": {},\n",
    "   \"source\": [\n",
    "    \"Plan your functions!\"\n",
    "   ]\n",
    "  },\n",
    "  {\n",
    "   \"cell_type\": \"markdown\",\n",
    "   \"metadata\": {},\n",
    "   \"source\": [\n",
    "    \"---\\n\",\n",
    "    \"\\n\",\n",
    "    \"# Holoviews Solution\\n\",\n",
    "    \"\\n\",\n",
    "    \"Examine what is happening here.\\n\",\n",
    "    \"\\n\",\n",
    "    \"```python\\n\",\n",
    "    \"def step(X):\\n\",\n",
    "    \"    nbrs_count = convolve2d(X, np.ones((3, 3)), mode='same', boundary='wrap') - X\\n\",\n",
    "    \"    return (nbrs_count == 3) | (X & (nbrs_count == 2))\\n\",\n",
    "    \"```\\n\",\n",
    "    \"\\n\",\n",
    "    \"The `convolve2d()` function is from the `scipy.signal` package. While we wont cover this function (or most of `scipy` in this class, a quick dive into another package can make a good lesson. See if you can figure out what the function above does with the help of the code below.\"\n",
    "   ]\n",
    "  },\n",
    "  {\n",
    "   \"cell_type\": \"code\",\n",
    "   \"execution_count\": 134,\n",
    "   \"metadata\": {},\n",
    "   \"outputs\": [],\n",
    "   \"source\": [\n",
    "    \"from scipy.signal import convolve2d\"\n",
    "   ]\n",
    "  },\n",
    "  {\n",
    "   \"cell_type\": \"code\",\n",
    "   \"execution_count\": 135,\n",
    "   \"metadata\": {},\n",
    "   \"outputs\": [],\n",
    "   \"source\": [\n",
    "    \"def test_convolve2d(in1, in2, mode='full', boundary='fill', fillvalue=0):\\n\",\n",
    "    \"    # The defualt arguments for the function are filled above.\\n\",\n",
    "    \"    print('Input array:')\\n\",\n",
    "    \"    print(in1)\\n\",\n",
    "    \"    out = convolve2d(in1, in2, mode, boundary, fillvalue)\\n\",\n",
    "    \"    print('Output:')\\n\",\n",
    "    \"    print(out)\"\n",
    "   ]\n",
    "  },\n",
    "  {\n",
    "   \"cell_type\": \"code\",\n",
    "   \"execution_count\": 136,\n",
    "   \"metadata\": {},\n",
    "   \"outputs\": [\n",
    "    {\n",
    "     \"name\": \"stdout\",\n",
    "     \"output_type\": \"stream\",\n",
    "     \"text\": [\n",
    "      \"Input array:\\n\",\n",
    "      \"[[0 0 0]\\n\",\n",
    "      \" [0 0 0]\\n\",\n",
    "      \" [0 0 0]]\\n\",\n",
    "      \"Output:\\n\",\n",
    "      \"[[0. 0. 0.]\\n\",\n",
    "      \" [0. 0. 0.]\\n\",\n",
    "      \" [0. 0. 0.]]\\n\"\n",
    "     ]\n",
    "    }\n",
    "   ],\n",
    "   \"source\": [\n",
    "    \"test_convolve2d(test_1, np.ones((3, 3)), mode='same')\"\n",
    "   ]\n",
    "  },\n",
    "  {\n",
    "   \"cell_type\": \"code\",\n",
    "   \"execution_count\": 137,\n",
    "   \"metadata\": {},\n",
    "   \"outputs\": [\n",
    "    {\n",
    "     \"name\": \"stdout\",\n",
    "     \"output_type\": \"stream\",\n",
    "     \"text\": [\n",
    "      \"Input array:\\n\",\n",
    "      \"[[0 0 0]\\n\",\n",
    "      \" [0 1 0]\\n\",\n",
    "      \" [0 0 0]]\\n\",\n",
    "      \"Output:\\n\",\n",
    "      \"[[1. 1. 1.]\\n\",\n",
    "      \" [1. 1. 1.]\\n\",\n",
    "      \" [1. 1. 1.]]\\n\"\n",
    "     ]\n",
    "    }\n",
    "   ],\n",
    "   \"source\": [\n",
    "    \"test_convolve2d(test_2, np.ones((3, 3)), mode='same')\"\n",
    "   ]\n",
    "  },\n",
    "  {\n",
    "   \"cell_type\": \"code\",\n",
    "   \"execution_count\": 138,\n",
    "   \"metadata\": {},\n",
    "   \"outputs\": [\n",
    "    {\n",
    "     \"name\": \"stdout\",\n",
    "     \"output_type\": \"stream\",\n",
    "     \"text\": [\n",
    "      \"Input array:\\n\",\n",
    "      \"[[0 1 0]\\n\",\n",
    "      \" [0 0 1]\\n\",\n",
    "      \" [0 1 0]]\\n\",\n",
    "      \"Output:\\n\",\n",
    "      \"[[1. 2. 2.]\\n\",\n",
    "      \" [2. 3. 3.]\\n\",\n",
    "      \" [1. 2. 2.]]\\n\"\n",
    "     ]\n",
    "    }\n",
    "   ],\n",
    "   \"source\": [\n",
    "    \"test_convolve2d(test_3, np.ones((3, 3)), mode='same')\"\n",
    "   ]\n",
    "  },\n",
    "  {\n",
    "   \"cell_type\": \"code\",\n",
    "   \"execution_count\": 139,\n",
    "   \"metadata\": {},\n",
    "   \"outputs\": [\n",
    "    {\n",
    "     \"name\": \"stdout\",\n",
    "     \"output_type\": \"stream\",\n",
    "     \"text\": [\n",
    "      \"Input array:\\n\",\n",
    "      \"[[0 0 0]\\n\",\n",
    "      \" [0 1 0]\\n\",\n",
    "      \" [0 1 1]]\\n\",\n",
    "      \"Output:\\n\",\n",
    "      \"[[1. 1. 1.]\\n\",\n",
    "      \" [2. 3. 3.]\\n\",\n",
    "      \" [2. 3. 3.]]\\n\"\n",
    "     ]\n",
    "    }\n",
    "   ],\n",
    "   \"source\": [\n",
    "    \"test_convolve2d(test_4, np.ones((3, 3)), mode='same')\"\n",
    "   ]\n",
    "  },\n",
    "  {\n",
    "   \"cell_type\": \"code\",\n",
    "   \"execution_count\": 140,\n",
    "   \"metadata\": {},\n",
    "   \"outputs\": [\n",
    "    {\n",
    "     \"name\": \"stdout\",\n",
    "     \"output_type\": \"stream\",\n",
    "     \"text\": [\n",
    "      \"Input array:\\n\",\n",
    "      \"[[0 1 0 1 1 0 1 1 0 0]\\n\",\n",
    "      \" [1 1 1 0 1 1 1 0 0 0]\\n\",\n",
    "      \" [1 0 0 1 0 0 0 0 1 0]\\n\",\n",
    "      \" [0 1 1 1 1 0 0 0 1 0]\\n\",\n",
    "      \" [0 0 1 1 1 0 0 0 1 0]\\n\",\n",
    "      \" [1 1 0 1 0 0 1 0 0 0]\\n\",\n",
    "      \" [0 1 0 0 1 0 0 1 0 0]\\n\",\n",
    "      \" [1 1 1 1 0 1 0 1 0 0]\\n\",\n",
    "      \" [1 1 0 1 0 0 1 0 1 0]\\n\",\n",
    "      \" [1 1 1 0 1 1 1 1 1 1]]\\n\",\n",
    "      \"Output:\\n\",\n",
    "      \"[[3. 4. 4. 4. 4. 5. 4. 3. 1. 0.]\\n\",\n",
    "      \" [4. 5. 5. 5. 5. 5. 4. 4. 2. 1.]\\n\",\n",
    "      \" [4. 6. 6. 6. 5. 4. 2. 3. 2. 2.]\\n\",\n",
    "      \" [2. 4. 6. 7. 5. 2. 0. 3. 3. 3.]\\n\",\n",
    "      \" [3. 5. 7. 7. 5. 3. 1. 3. 2. 2.]\\n\",\n",
    "      \" [3. 4. 5. 5. 4. 3. 2. 3. 2. 1.]\\n\",\n",
    "      \" [5. 6. 6. 4. 4. 3. 4. 3. 2. 0.]\\n\",\n",
    "      \" [5. 6. 6. 4. 4. 3. 4. 4. 3. 1.]\\n\",\n",
    "      \" [6. 8. 7. 5. 5. 5. 6. 6. 5. 3.]\\n\",\n",
    "      \" [4. 5. 4. 3. 3. 4. 4. 5. 4. 3.]]\\n\"\n",
    "     ]\n",
    "    }\n",
    "   ],\n",
    "   \"source\": [\n",
    "    \"test_convolve2d(grid, np.ones((3, 3)), mode='same')\"\n",
    "   ]\n",
    "  },\n",
    "  {\n",
    "   \"cell_type\": \"code\",\n",
    "   \"execution_count\": 146,\n",
    "   \"metadata\": {},\n",
    "   \"outputs\": [\n",
    "    {\n",
    "     \"data\": {\n",
    "      \"text/plain\": [\n",
    "       \"array([[3., 3., 4., 3., 3., 5., 3., 2., 1., 0.],\\n\",\n",
    "       \"       [3., 4., 4., 5., 4., 4., 3., 4., 2., 1.],\\n\",\n",
    "       \"       [3., 6., 6., 5., 5., 4., 2., 3., 1., 2.],\\n\",\n",
    "       \"       [2., 3., 5., 6., 4., 2., 0., 3., 2., 3.],\\n\",\n",
    "       \"       [3., 5., 6., 6., 4., 3., 1., 3., 1., 2.],\\n\",\n",
    "       \"       [2., 3., 5., 4., 4., 3., 1., 3., 2., 1.],\\n\",\n",
    "       \"       [5., 5., 6., 4., 3., 3., 4., 2., 2., 0.],\\n\",\n",
    "       \"       [4., 5., 5., 3., 4., 2., 4., 3., 3., 1.],\\n\",\n",
    "       \"       [5., 7., 7., 4., 5., 5., 5., 6., 4., 3.],\\n\",\n",
    "       \"       [3., 4., 3., 3., 2., 3., 3., 4., 3., 2.]])\"\n",
    "      ]\n",
    "     },\n",
    "     \"execution_count\": 146,\n",
    "     \"metadata\": {},\n",
    "     \"output_type\": \"execute_result\"\n",
    "    }\n",
    "   ],\n",
    "   \"source\": [\n",
    "    \"nbrs_count = convolve2d(grid, np.ones((3, 3)), mode='same') - grid\\n\",\n",
    "    \"nbrs_count\"\n",
    "   ]\n",
    "  },\n",
    "  {\n",
    "   \"cell_type\": \"code\",\n",
    "   \"execution_count\": 172,\n",
    "   \"metadata\": {},\n",
    "   \"outputs\": [\n",
    "    {\n",
    "     \"data\": {\n",
    "      \"text/plain\": [\n",
    "       \"array([[1, 1, 0, 1, 1, 0, 1, 1, 0, 0],\\n\",\n",
    "       \"       [1, 0, 0, 0, 0, 0, 1, 0, 0, 0],\\n\",\n",
    "       \"       [1, 0, 0, 0, 0, 0, 0, 1, 0, 0],\\n\",\n",
    "       \"       [0, 1, 0, 0, 0, 0, 0, 1, 1, 1],\\n\",\n",
    "       \"       [1, 0, 0, 0, 0, 1, 0, 1, 0, 0],\\n\",\n",
    "       \"       [1, 1, 0, 0, 0, 1, 0, 1, 0, 0],\\n\",\n",
    "       \"       [0, 0, 0, 0, 1, 1, 0, 1, 0, 0],\\n\",\n",
    "       \"       [0, 0, 0, 1, 0, 1, 0, 1, 1, 0],\\n\",\n",
    "       \"       [0, 0, 0, 0, 0, 0, 0, 0, 0, 1],\\n\",\n",
    "       \"       [1, 0, 1, 1, 1, 1, 1, 0, 1, 1]], dtype=int32)\"\n",
    "      ]\n",
    "     },\n",
    "     \"execution_count\": 172,\n",
    "     \"metadata\": {},\n",
    "     \"output_type\": \"execute_result\"\n",
    "    }\n",
    "   ],\n",
    "   \"source\": [\n",
    "    \"(nbrs_count == 3) | (grid & (nbrs_count == 2))\"\n",
    "   ]\n",
    "  },\n",
    "  {\n",
    "   \"cell_type\": \"markdown\",\n",
    "   \"metadata\": {},\n",
    "   \"source\": [\n",
    "    \"See `np.bitwise_and` and `np.bitwise_or`.\\n\"\n",
    "   ]\n",
    "  },\n",
    "  {\n",
    "   \"cell_type\": \"code\",\n",
    "   \"execution_count\": null,\n",
    "   \"metadata\": {},\n",
    "   \"outputs\": [],\n",
    "   \"source\": []\n",
    "  }\n",
    " ],\n",
    " \"metadata\": {\n",
    "  \"kernelspec\": {\n",
    "   \"display_name\": \"Python 3\",\n",
    "   \"language\": \"python\",\n",
    "   \"name\": \"python3\"\n",
    "  },\n",
    "  \"language_info\": {\n",
    "   \"codemirror_mode\": {\n",
    "    \"name\": \"ipython\",\n",
    "    \"version\": 3\n",
    "   },\n",
    "   \"file_extension\": \".py\",\n",
    "   \"mimetype\": \"text/x-python\",\n",
    "   \"name\": \"python\",\n",
    "   \"nbconvert_exporter\": \"python\",\n",
    "   \"pygments_lexer\": \"ipython3\",\n",
    "   \"version\": \"3.7.1\"\n",
    "  }\n",
    " },\n",
    " \"nbformat\": 4,\n",
    " \"nbformat_minor\": 2\n",
    "}\n",
    "import numpy as np"
   ]
  },
  {
   "cell_type": "markdown",
   "metadata": {},
   "source": [
    "### TASK 1\n",
    "Re-create the numpy arrays above by entering the lines of code above into the code cell below:"
   ]
  },
  {
   "cell_type": "code",
   "execution_count": 2,
   "metadata": {},
   "outputs": [],
   "source": [
    "my_array = np.array([1,2,3,4])"
   ]
  },
  {
   "cell_type": "code",
   "execution_count": 3,
   "metadata": {},
   "outputs": [],
   "source": [
    "my_2d_array = np.array([[1,2,3,4],[5,6,7,8]])"
   ]
  },
  {
   "cell_type": "code",
   "execution_count": 4,
   "metadata": {},
   "outputs": [],
   "source": [
    "my_3d_array = np.array([[[1,2,3,4], [5,6,7,8]], [[1,2,3,4], [9,10,11,12]]])\n"
   ]
  },
  {
   "cell_type": "code",
   "execution_count": 6,
   "metadata": {},
   "outputs": [],
   "source": [
    "a = np.array([True,True,False,False])\n",
    "b = np.array([False,False,True,True])"
   ]
  },
  {
   "cell_type": "code",
   "execution_count": 7,
   "metadata": {},
   "outputs": [
    {
     "name": "stdout",
     "output_type": "stream",
     "text": [
      "[[[ 1  2  3  4]\n",
      "  [ 5  6  7  8]]\n",
      "\n",
      " [[ 1  2  3  4]\n",
      "  [ 9 10 11 12]]]\n"
     ]
    }
   ],
   "source": [
    "print(my_3d_array)"
   ]
  },
  {
   "cell_type": "code",
   "execution_count": 8,
   "metadata": {},
   "outputs": [
    {
     "name": "stdout",
     "output_type": "stream",
     "text": [
      "[1 2 3 4]\n"
     ]
    }
   ],
   "source": [
    "print(my_array)"
   ]
  },
  {
   "cell_type": "markdown",
   "metadata": {},
   "source": [
    "## Accessing Array Attributes\n",
    "For this section we retrieving information about the arrays. Once an array is created you can access information about the array such as the number of dimensions, its shape, its size, the data type that it stores, the number of bytes it is consuming. There are a variety of attributes you can use such as:\n",
    "+ `ndim`\n",
    "+ `shape`\n",
    "+ `size`\n",
    "+ `dtype`\n",
    "+ `itemsize`\n",
    "+ `data`\n",
    "+ `nbytes`\n",
    "\n",
    "For example, to get the number of dimensions for an array:\n",
    "```Python\n",
    "# Print the number of dimensions for the array:\n",
    "print(my_3d_array.ndim)\n",
    "```\n",
    "\n",
    "### Task 2\n",
    "\n",
    "In the code cell below, practice using each of the attributes above. Add a comment line, as shown in the preceeding code to describe what each attribute is for. Use the [NumPy ndarray reference page](https://docs.scipy.org/doc/numpy/reference/generated/numpy.ndarray.html) if you need help understanding the attributes.\n",
    "\n",
    "_Note: Notice that we use dot notation to access these attributes, yet we do not provide the parenthesis `()` like we would for a function call.  This is because we are accessing attributes (i.e. member variables) of the numpy object, we are not calling a function_"
   ]
  },
  {
   "cell_type": "code",
   "execution_count": 27,
   "metadata": {},
   "outputs": [
    {
     "data": {
      "text/plain": [
       "array([1, 2, 3, 4])"
      ]
     },
     "execution_count": 27,
     "metadata": {},
     "output_type": "execute_result"
    }
   ],
   "source": [
    "my_array # print the contents of the array"
   ]
  },
  {
   "cell_type": "code",
   "execution_count": 28,
   "metadata": {},
   "outputs": [
    {
     "data": {
      "text/plain": [
       "1"
      ]
     },
     "execution_count": 28,
     "metadata": {},
     "output_type": "execute_result"
    }
   ],
   "source": [
    "my_array.ndim # print the number of dimensions of the array\n"
   ]
  },
  {
   "cell_type": "code",
   "execution_count": 29,
   "metadata": {},
   "outputs": [
    {
     "data": {
      "text/plain": [
       "4"
      ]
     },
     "execution_count": 29,
     "metadata": {},
     "output_type": "execute_result"
    }
   ],
   "source": [
    "my_array.size #print the size of the array"
   ]
  },
  {
   "cell_type": "code",
   "execution_count": 30,
   "metadata": {},
   "outputs": [
    {
     "data": {
      "text/plain": [
       "dtype('int32')"
      ]
     },
     "execution_count": 30,
     "metadata": {},
     "output_type": "execute_result"
    }
   ],
   "source": [
    "my_array.dtype # print the data type of the array"
   ]
  },
  {
   "cell_type": "code",
   "execution_count": 31,
   "metadata": {},
   "outputs": [
    {
     "data": {
      "text/plain": [
       "4"
      ]
     },
     "execution_count": 31,
     "metadata": {},
     "output_type": "execute_result"
    }
   ],
   "source": [
    "my_array.itemsize # print length of array size in bytes"
   ]
  },
  {
   "cell_type": "code",
   "execution_count": 32,
   "metadata": {},
   "outputs": [
    {
     "data": {
      "text/plain": [
       "<memory at 0x00000232C3C3EA08>"
      ]
     },
     "execution_count": 32,
     "metadata": {},
     "output_type": "execute_result"
    }
   ],
   "source": [
    "my_array.data #python buffer object pointing to the start of the array"
   ]
  },
  {
   "cell_type": "code",
   "execution_count": 33,
   "metadata": {},
   "outputs": [
    {
     "data": {
      "text/plain": [
       "16"
      ]
     },
     "execution_count": 33,
     "metadata": {},
     "output_type": "execute_result"
    }
   ],
   "source": [
    "my_array.nbytes #prints the total bytes consumed by the elements of the array"
   ]
  },
  {
   "cell_type": "markdown",
   "metadata": {},
   "source": [
    "## Creating Initialized Arrays\n",
    "\n",
    "Here we will learn to create initialized arrays. Some refer to these as \"empty\" arrays, but in reality, the arrays are not empty. Rather they are pre-initalized with default values.  NumPy provides a variety of functions for creating and intializing an array in easy-to-use functions. These include: \n",
    "\n",
    "+ `np.ones()`\n",
    "+ `np.zeroes()`\n",
    "+ `np.random.random()`\n",
    "+ `np.empty()`\n",
    "+ `np.full()`\n",
    "+ `np.arange()`\n",
    "+ `np.linspace()`\n",
    "\n",
    "For example, to create an 2-dimesional _3 x 4_ array intialized with all zeros:\n",
    "```Python\n",
    "  # Create an array 3x4 array initialized with zeros\n",
    "  zeros = np.ones((3,4))\n",
    "```\n",
    "\n",
    "### TASK 3\n",
    "\n",
    "Practice creating initialized arrays by using each of the functions above in the code cell below. Just as in the preceeding code example, add a comment above each function call describing what is being done.  Use the [Numpy Function Reference](https://docs.scipy.org/doc/numpy/reference/routines.html) to learn more about each function. Be sure to follow each array creation with a call to `print()` to display your newly created arrays. "
   ]
  },
  {
   "cell_type": "code",
   "execution_count": 35,
   "metadata": {},
   "outputs": [],
   "source": [
    "zeros = np.ones((3,4)) #creates an array 3x4 initialized with zeros"
   ]
  },
  {
   "cell_type": "code",
   "execution_count": 13,
   "metadata": {},
   "outputs": [
    {
     "data": {
      "text/plain": [
       "array([1., 1., 1., 1., 1.])"
      ]
     },
     "execution_count": 13,
     "metadata": {},
     "output_type": "execute_result"
    }
   ],
   "source": [
    "np.ones( 5 ) #creates a 5 number array populated by ones"
   ]
  },
  {
   "cell_type": "code",
   "execution_count": 14,
   "metadata": {},
   "outputs": [
    {
     "data": {
      "text/plain": [
       "array([[1., 1., 1., 1., 1.],\n",
       "       [1., 1., 1., 1., 1.],\n",
       "       [1., 1., 1., 1., 1.],\n",
       "       [1., 1., 1., 1., 1.],\n",
       "       [1., 1., 1., 1., 1.]])"
      ]
     },
     "execution_count": 14,
     "metadata": {},
     "output_type": "execute_result"
    }
   ],
   "source": [
    "np.ones( (5,5) ) #creates a 5 x 5 array populated with ones"
   ]
  },
  {
   "cell_type": "code",
   "execution_count": 15,
   "metadata": {},
   "outputs": [
    {
     "data": {
      "text/plain": [
       "array([[[1., 1., 1.],\n",
       "        [1., 1., 1.],\n",
       "        [1., 1., 1.],\n",
       "        [1., 1., 1.],\n",
       "        [1., 1., 1.]],\n",
       "\n",
       "       [[1., 1., 1.],\n",
       "        [1., 1., 1.],\n",
       "        [1., 1., 1.],\n",
       "        [1., 1., 1.],\n",
       "        [1., 1., 1.]]])"
      ]
     },
     "execution_count": 15,
     "metadata": {},
     "output_type": "execute_result"
    }
   ],
   "source": [
    "np.ones( (2, #axis 2 size all populated with 1's\n",
    "          5, #axis 0 size all populated with 1's\n",
    "          3) #axis 1 size all populated with 1's\n",
    "       )"
   ]
  },
  {
   "cell_type": "code",
   "execution_count": 16,
   "metadata": {},
   "outputs": [
    {
     "data": {
      "text/plain": [
       "array([[0.41460742, 0.6231559 , 0.0746499 , 0.78355309],\n",
       "       [0.88372197, 0.93379748, 0.46650527, 0.95381829],\n",
       "       [0.03907411, 0.14417341, 0.97297451, 0.77929702],\n",
       "       [0.73244882, 0.2360094 , 0.20025825, 0.03075956]])"
      ]
     },
     "execution_count": 16,
     "metadata": {},
     "output_type": "execute_result"
    }
   ],
   "source": [
    "np.random.random( (4, 4) ) #returns random floats in the shape defined by (4,4)"
   ]
  },
  {
   "cell_type": "code",
   "execution_count": 38,
   "metadata": {},
   "outputs": [
    {
     "data": {
      "text/plain": [
       "array([[1.19417031e-311],\n",
       "       [0.00000000e+000],\n",
       "       [4.18641611e+034]])"
      ]
     },
     "execution_count": 38,
     "metadata": {},
     "output_type": "execute_result"
    }
   ],
   "source": [
    "np.empty( (3,1) ) #gives an array of given shape and size without initializing entries"
   ]
  },
  {
   "cell_type": "code",
   "execution_count": 41,
   "metadata": {},
   "outputs": [
    {
     "data": {
      "text/plain": [
       "array([[5, 5, 5, 5],\n",
       "       [5, 5, 5, 5],\n",
       "       [5, 5, 5, 5]])"
      ]
     },
     "execution_count": 41,
     "metadata": {},
     "output_type": "execute_result"
    }
   ],
   "source": [
    "np.full( (3,4), 5 ) #returns an array of given shape and size filled with a value"
   ]
  },
  {
   "cell_type": "code",
   "execution_count": 46,
   "metadata": {},
   "outputs": [
    {
     "data": {
      "text/plain": [
       "array([2, 3, 4])"
      ]
     },
     "execution_count": 46,
     "metadata": {},
     "output_type": "execute_result"
    }
   ],
   "source": [
    "np.arange(2,5,1) #returns evenly spaced objects of given interval start, stop, interval space"
   ]
  },
  {
   "cell_type": "code",
   "execution_count": 52,
   "metadata": {},
   "outputs": [
    {
     "data": {
      "text/plain": [
       "array([ 2.,  4.,  6.,  8., 10.])"
      ]
     },
     "execution_count": 52,
     "metadata": {},
     "output_type": "execute_result"
    }
   ],
   "source": [
    "np.linspace(2.0,10.0, num=5) #returns evenly spaced numbers over a specified interval"
   ]
  },
  {
   "cell_type": "markdown",
   "metadata": {},
   "source": [
    "### Task 4\n",
    "Try practicing math operations by creating your own arrays of differeing sizes.  In the cell below experiment adding, multiplying or dividing two arrays of different (but compatible) sizes. Do this with two different sets of arrays."
   ]
  },
  {
   "cell_type": "code",
   "execution_count": 26,
   "metadata": {},
   "outputs": [
    {
     "data": {
      "text/plain": [
       "array([[2., 2.],\n",
       "       [2., 2.]])"
      ]
     },
     "execution_count": 26,
     "metadata": {},
     "output_type": "execute_result"
    }
   ],
   "source": [
    "np.ones( (2,2) ) + np.ones( (2, 2) )"
   ]
  },
  {
   "cell_type": "code",
   "execution_count": 56,
   "metadata": {},
   "outputs": [
    {
     "data": {
      "text/plain": [
       "array([[2., 2., 2., 2.],\n",
       "       [2., 2., 2., 2.]])"
      ]
     },
     "execution_count": 56,
     "metadata": {},
     "output_type": "execute_result"
    }
   ],
   "source": [
    "np.ones( (2,4) ) + np.ones( (2,4) )"
   ]
  },
  {
   "cell_type": "code",
   "execution_count": 58,
   "metadata": {},
   "outputs": [
    {
     "data": {
      "text/plain": [
       "array([[2., 2., 2., 2., 2., 2.],\n",
       "       [2., 2., 2., 2., 2., 2.],\n",
       "       [2., 2., 2., 2., 2., 2.]])"
      ]
     },
     "execution_count": 58,
     "metadata": {},
     "output_type": "execute_result"
    }
   ],
   "source": [
    "np.ones( (3,6) ) + np.ones( (1,6) )"
   ]
  },
  {
   "cell_type": "code",
   "execution_count": 66,
   "metadata": {},
   "outputs": [
    {
     "data": {
      "text/plain": [
       "array([[[0.6416948 , 0.79169812],\n",
       "        [0.48214387, 0.79422968]],\n",
       "\n",
       "       [[0.91068058, 0.38119944],\n",
       "        [0.58157914, 0.34958074]],\n",
       "\n",
       "       [[0.20625468, 0.88663906],\n",
       "        [0.88994234, 0.5106512 ]],\n",
       "\n",
       "       [[0.19358407, 0.72458563],\n",
       "        [0.51548792, 0.87049967]],\n",
       "\n",
       "       [[0.43732751, 0.31553028],\n",
       "        [0.40422749, 0.45800477]]])"
      ]
     },
     "execution_count": 66,
     "metadata": {},
     "output_type": "execute_result"
    }
   ],
   "source": [
    "do_it = np.random.random( (5,2,2) )\n",
    "do_not = np.ones( (5,2,2) )\n",
    "do_it * do_not\n"
   ]
  },
  {
   "cell_type": "markdown",
   "metadata": {},
   "source": [
    "### Task 5\n",
    "Find an example of non-compatible array shapes for an operation, and explain why it fails. You can demonstrate using code or written text. If you use written text, be sure to switch the cell below to use Markdown."
   ]
  },
  {
   "cell_type": "code",
   "execution_count": 59,
   "metadata": {},
   "outputs": [
    {
     "ename": "ValueError",
     "evalue": "operands could not be broadcast together with shapes (3,6) (1,3) ",
     "output_type": "error",
     "traceback": [
      "\u001b[1;31m---------------------------------------------------------------------------\u001b[0m",
      "\u001b[1;31mValueError\u001b[0m                                Traceback (most recent call last)",
      "\u001b[1;32m<ipython-input-59-c3092b569a32>\u001b[0m in \u001b[0;36m<module>\u001b[1;34m\u001b[0m\n\u001b[1;32m----> 1\u001b[1;33m \u001b[0mnp\u001b[0m\u001b[1;33m.\u001b[0m\u001b[0mones\u001b[0m\u001b[1;33m(\u001b[0m \u001b[1;33m(\u001b[0m\u001b[1;36m3\u001b[0m\u001b[1;33m,\u001b[0m\u001b[1;36m6\u001b[0m\u001b[1;33m)\u001b[0m \u001b[1;33m)\u001b[0m \u001b[1;33m+\u001b[0m \u001b[0mnp\u001b[0m\u001b[1;33m.\u001b[0m\u001b[0mones\u001b[0m\u001b[1;33m(\u001b[0m \u001b[1;33m(\u001b[0m\u001b[1;36m1\u001b[0m\u001b[1;33m,\u001b[0m\u001b[1;36m3\u001b[0m\u001b[1;33m)\u001b[0m \u001b[1;33m)\u001b[0m\u001b[1;33m\u001b[0m\u001b[1;33m\u001b[0m\u001b[0m\n\u001b[0m",
      "\u001b[1;31mValueError\u001b[0m: operands could not be broadcast together with shapes (3,6) (1,3) "
     ]
    }
   ],
   "source": [
    "np.ones( (3,6) ) + np.ones( (1,3) ) #the shapes are different sizes and cannot be added"
   ]
  },
  {
   "cell_type": "markdown",
   "metadata": {},
   "source": [
    "## NumPy Aggregate Functions\n",
    "NumPy also provides a variety of functions that \"aggregate\" data. \n",
    "Examples of aggreagation of data include calculating the sum of every element in the array, calculating the mean, standard deviation, etc.  Below are a few examples of aggregation functions provided by numpy:\n",
    "\n",
    "+ `np.sum()`\n",
    "+ `np.min()`\n",
    "+ `np.max()`\n",
    "+ `np.cumsum()`\n",
    "+ `np.mean()`\n",
    "+ `np.median()`\n",
    "+ `np.corrcoef()`\n",
    "+ `np.std()`\n",
    "\n",
    "For example:\n",
    "```Python\n",
    "# Calculate the sum of our demo data from above\n",
    "np.sum(demo_e)\n",
    "```\n"
   ]
  },
  {
   "cell_type": "markdown",
   "metadata": {},
   "source": [
    "### Task 6\n",
    "Create three to five arrays (or more as needed) and experiment with each of the aggregation functions above. For each function, add a comment line above it that describes what it does.  Use the [Numpy Function Reference](https://docs.scipy.org/doc/numpy/reference/routines.html) to learn more about each function."
   ]
  },
  {
   "cell_type": "code",
   "execution_count": 62,
   "metadata": {},
   "outputs": [
    {
     "data": {
      "text/plain": [
       "12.0"
      ]
     },
     "execution_count": 62,
     "metadata": {},
     "output_type": "execute_result"
    }
   ],
   "source": [
    "demo_e = np.ones((3,4))\n",
    "np.sum(demo_e) #sum of array elements over a given axis\n"
   ]
  },
  {
   "cell_type": "code",
   "execution_count": 63,
   "metadata": {},
   "outputs": [
    {
     "data": {
      "text/plain": [
       "1.0"
      ]
     },
     "execution_count": 63,
     "metadata": {},
     "output_type": "execute_result"
    }
   ],
   "source": [
    "np.min(demo_e) #returns min value of array"
   ]
  },
  {
   "cell_type": "code",
   "execution_count": 67,
   "metadata": {},
   "outputs": [
    {
     "data": {
      "text/plain": [
       "1.0"
      ]
     },
     "execution_count": 67,
     "metadata": {},
     "output_type": "execute_result"
    }
   ],
   "source": [
    "np.max(demo_e) #returns that max value within an array"
   ]
  },
  {
   "cell_type": "code",
   "execution_count": 68,
   "metadata": {},
   "outputs": [
    {
     "data": {
      "text/plain": [
       "array([ 1.,  2.,  3.,  4.,  5.,  6.,  7.,  8.,  9., 10., 11., 12.])"
      ]
     },
     "execution_count": 68,
     "metadata": {},
     "output_type": "execute_result"
    }
   ],
   "source": [
    "np.cumsum(demo_e) #returns a cumulative sum of aspects across a given axis within an array"
   ]
  },
  {
   "cell_type": "code",
   "execution_count": 69,
   "metadata": {},
   "outputs": [
    {
     "data": {
      "text/plain": [
       "1.0"
      ]
     },
     "execution_count": 69,
     "metadata": {},
     "output_type": "execute_result"
    }
   ],
   "source": [
    "np.mean(demo_e) #compute the arithmatic mean across a given axis"
   ]
  },
  {
   "cell_type": "code",
   "execution_count": 70,
   "metadata": {},
   "outputs": [
    {
     "data": {
      "text/plain": [
       "1.0"
      ]
     },
     "execution_count": 70,
     "metadata": {},
     "output_type": "execute_result"
    }
   ],
   "source": [
    "np.median(demo_e) #compute the median across a given axis"
   ]
  },
  {
   "cell_type": "code",
   "execution_count": 71,
   "metadata": {},
   "outputs": [
    {
     "name": "stderr",
     "output_type": "stream",
     "text": [
      "C:\\Users\\Johann\\Anaconda3\\lib\\site-packages\\numpy\\lib\\function_base.py:2400: RuntimeWarning: invalid value encountered in true_divide\n",
      "  c /= stddev[:, None]\n"
     ]
    },
    {
     "data": {
      "text/plain": [
       "array([[nan, nan, nan],\n",
       "       [nan, nan, nan],\n",
       "       [nan, nan, nan]])"
      ]
     },
     "execution_count": 71,
     "metadata": {},
     "output_type": "execute_result"
    }
   ],
   "source": [
    "np.corrcoef(demo_e) #Return Pearson product-moment correlation coefficients"
   ]
  },
  {
   "cell_type": "code",
   "execution_count": 72,
   "metadata": {},
   "outputs": [
    {
     "data": {
      "text/plain": [
       "0.0"
      ]
     },
     "execution_count": 72,
     "metadata": {},
     "output_type": "execute_result"
    }
   ],
   "source": [
    "np.std(demo_e) #compute the standard deviation across a given axis "
   ]
  },
  {
   "cell_type": "markdown",
   "metadata": {},
   "source": [
    "### Logical Aggregate Functions\n",
    "When arrays contain boolean values there are additional logical aggregation functions you can use: \n",
    "\n",
    " + `logical_and()`\n",
    " + `logical_or()`    \n",
    " + `logical_not()`    \n",
    " \n",
    "For example:\n",
    "```Python\n",
    "# Two lists of boolean values\n",
    "a = [True, True, False, False]\n",
    "b = [False, False, True, True]\n",
    "# Perform a logical \"or\":\n",
    "np.logical_or(a, b)\n",
    "```"
   ]
  },
  {
   "cell_type": "markdown",
   "metadata": {},
   "source": [
    "### Task 7\n",
    "\n",
    "Using the code cell below, practice using each of the three logical aggregate functions listed above."
   ]
  },
  {
   "cell_type": "code",
   "execution_count": 73,
   "metadata": {},
   "outputs": [
    {
     "data": {
      "text/plain": [
       "array([ True,  True,  True,  True])"
      ]
     },
     "execution_count": 73,
     "metadata": {},
     "output_type": "execute_result"
    }
   ],
   "source": [
    "a = [True, True, False, False]\n",
    "b = [False, False, True, True]\n",
    "\n",
    "np.logical_or(a, b)"
   ]
  },
  {
   "cell_type": "code",
   "execution_count": 74,
   "metadata": {},
   "outputs": [
    {
     "data": {
      "text/plain": [
       "array([False, False, False, False])"
      ]
     },
     "execution_count": 74,
     "metadata": {},
     "output_type": "execute_result"
    }
   ],
   "source": [
    "np.logical_and(a,b)"
   ]
  },
  {
   "cell_type": "code",
   "execution_count": 76,
   "metadata": {},
   "outputs": [
    {
     "data": {
      "text/plain": [
       "array([ True,  True, False, False])"
      ]
     },
     "execution_count": 76,
     "metadata": {},
     "output_type": "execute_result"
    }
   ],
   "source": [
    "np.logical_not(b)"
   ]
  },
  {
   "cell_type": "markdown",
   "metadata": {},
   "source": [
    "### TASK 8\n",
    "Perform the following in the code cell below:\n",
    "\n",
    "1. Create (or re-use) 3 arrays, each containing three dimensions.\n",
    "2. Slice each of these arrays so that:\n",
    "    + One element / number is returned.\n",
    "    + One dimension is returned.\n",
    "    + A subset of a dimension is returned.\n",
    "3. What is the difference between `[x:]` and `[x, ...]`? (hint, try on high-dimension arrays).\n",
    "    \n",
    "*Exactly what you choose to return is not imporant at this point, the goal of this task is to train you so that if you are given an n-dimension numpy array, you will be able to write an index or slice that returns a subset of desired positions.*"
   ]
  },
  {
   "cell_type": "code",
   "execution_count": 78,
   "metadata": {},
   "outputs": [],
   "source": [
    "demo_j = np.full((3,4,5), 5)\n",
    "demo_k = np.ones((3,4,5))\n",
    "demo_l = np.full((5,6,7), 5)\n"
   ]
  },
  {
   "cell_type": "code",
   "execution_count": 84,
   "metadata": {},
   "outputs": [
    {
     "data": {
      "text/plain": [
       "5"
      ]
     },
     "execution_count": 84,
     "metadata": {},
     "output_type": "execute_result"
    }
   ],
   "source": [
    "demo_j[1,1,1]"
   ]
  },
  {
   "cell_type": "code",
   "execution_count": 85,
   "metadata": {},
   "outputs": [
    {
     "data": {
      "text/plain": [
       "array([1., 1., 1., 1., 1.])"
      ]
     },
     "execution_count": 85,
     "metadata": {},
     "output_type": "execute_result"
    }
   ],
   "source": [
    "demo_k[1,1]"
   ]
  },
  {
   "cell_type": "code",
   "execution_count": 87,
   "metadata": {},
   "outputs": [
    {
     "data": {
      "text/plain": [
       "array([[5, 5, 5, 5, 5, 5, 5],\n",
       "       [5, 5, 5, 5, 5, 5, 5],\n",
       "       [5, 5, 5, 5, 5, 5, 5],\n",
       "       [5, 5, 5, 5, 5, 5, 5],\n",
       "       [5, 5, 5, 5, 5, 5, 5],\n",
       "       [5, 5, 5, 5, 5, 5, 5]])"
      ]
     },
     "execution_count": 87,
     "metadata": {},
     "output_type": "execute_result"
    }
   ],
   "source": [
    "demo_l[2]"
   ]
  },
  {
   "cell_type": "code",
   "execution_count": 88,
   "metadata": {},
   "outputs": [
    {
     "data": {
      "text/plain": [
       "array([[[5, 5, 5, 5, 5, 5, 5],\n",
       "        [5, 5, 5, 5, 5, 5, 5],\n",
       "        [5, 5, 5, 5, 5, 5, 5],\n",
       "        [5, 5, 5, 5, 5, 5, 5],\n",
       "        [5, 5, 5, 5, 5, 5, 5],\n",
       "        [5, 5, 5, 5, 5, 5, 5]],\n",
       "\n",
       "       [[5, 5, 5, 5, 5, 5, 5],\n",
       "        [5, 5, 5, 5, 5, 5, 5],\n",
       "        [5, 5, 5, 5, 5, 5, 5],\n",
       "        [5, 5, 5, 5, 5, 5, 5],\n",
       "        [5, 5, 5, 5, 5, 5, 5],\n",
       "        [5, 5, 5, 5, 5, 5, 5]],\n",
       "\n",
       "       [[5, 5, 5, 5, 5, 5, 5],\n",
       "        [5, 5, 5, 5, 5, 5, 5],\n",
       "        [5, 5, 5, 5, 5, 5, 5],\n",
       "        [5, 5, 5, 5, 5, 5, 5],\n",
       "        [5, 5, 5, 5, 5, 5, 5],\n",
       "        [5, 5, 5, 5, 5, 5, 5]]])"
      ]
     },
     "execution_count": 88,
     "metadata": {},
     "output_type": "execute_result"
    }
   ],
   "source": [
    "demo_l[2:]"
   ]
  },
  {
   "cell_type": "code",
   "execution_count": 89,
   "metadata": {},
   "outputs": [
    {
     "data": {
      "text/plain": [
       "array([[5, 5, 5, 5, 5, 5, 5],\n",
       "       [5, 5, 5, 5, 5, 5, 5],\n",
       "       [5, 5, 5, 5, 5, 5, 5],\n",
       "       [5, 5, 5, 5, 5, 5, 5],\n",
       "       [5, 5, 5, 5, 5, 5, 5],\n",
       "       [5, 5, 5, 5, 5, 5, 5]])"
      ]
     },
     "execution_count": 89,
     "metadata": {},
     "output_type": "execute_result"
    }
   ],
   "source": [
    "demo_l[2, ...]"
   ]
  },
  {
   "cell_type": "markdown",
   "metadata": {},
   "source": [
    "### TASK 9\n",
    "In the code cell below, experiment with the following boolean conditionals to generate boolean arrays for indexing:\n",
    "  + Greater than\n",
    "  + Less than\n",
    "  + Equals\n",
    "  + Combine two or more of the above with:\n",
    "      + or `|`\n",
    "      + and `&`\n",
    "\n",
    "You can create arrays or use existing ones:"
   ]
  },
  {
   "cell_type": "code",
   "execution_count": 90,
   "metadata": {},
   "outputs": [
    {
     "data": {
      "text/plain": [
       "array([5, 5, 5, 5, 5, 5, 5, 5, 5, 5, 5, 5, 5, 5, 5, 5, 5, 5, 5, 5, 5, 5,\n",
       "       5, 5, 5, 5, 5, 5, 5, 5, 5, 5, 5, 5, 5, 5, 5, 5, 5, 5, 5, 5, 5, 5,\n",
       "       5, 5, 5, 5, 5, 5, 5, 5, 5, 5, 5, 5, 5, 5, 5, 5])"
      ]
     },
     "execution_count": 90,
     "metadata": {},
     "output_type": "execute_result"
    }
   ],
   "source": [
    "demo_j[demo_j > 1]"
   ]
  },
  {
   "cell_type": "code",
   "execution_count": 91,
   "metadata": {},
   "outputs": [
    {
     "data": {
      "text/plain": [
       "array([], dtype=int32)"
      ]
     },
     "execution_count": 91,
     "metadata": {},
     "output_type": "execute_result"
    }
   ],
   "source": [
    "demo_j[demo_j < 3]"
   ]
  },
  {
   "cell_type": "code",
   "execution_count": 95,
   "metadata": {},
   "outputs": [
    {
     "data": {
      "text/plain": [
       "array([5, 5, 5, 5, 5, 5, 5, 5, 5, 5, 5, 5, 5, 5, 5, 5, 5, 5, 5, 5, 5, 5,\n",
       "       5, 5, 5, 5, 5, 5, 5, 5, 5, 5, 5, 5, 5, 5, 5, 5, 5, 5, 5, 5, 5, 5,\n",
       "       5, 5, 5, 5, 5, 5, 5, 5, 5, 5, 5, 5, 5, 5, 5, 5])"
      ]
     },
     "execution_count": 95,
     "metadata": {},
     "output_type": "execute_result"
    }
   ],
   "source": [
    "demo_k[demo_k == 5]"
   ]
  },
  {
   "cell_type": "code",
   "execution_count": 105,
   "metadata": {},
   "outputs": [
    {
     "data": {
      "text/plain": [
       "array([], dtype=int32)"
      ]
     },
     "execution_count": 105,
     "metadata": {},
     "output_type": "execute_result"
    }
   ],
   "source": [
    "demo_k[(demo_k == 5) & (demo_k < 5)]"
   ]
  },
  {
   "cell_type": "code",
   "execution_count": 106,
   "metadata": {},
   "outputs": [
    {
     "data": {
      "text/plain": [
       "array([5, 5, 5, 5, 5, 5, 5, 5, 5, 5, 5, 5, 5, 5, 5, 5, 5, 5, 5, 5, 5, 5,\n",
       "       5, 5, 5, 5, 5, 5, 5, 5, 5, 5, 5, 5, 5, 5, 5, 5, 5, 5, 5, 5, 5, 5,\n",
       "       5, 5, 5, 5, 5, 5, 5, 5, 5, 5, 5, 5, 5, 5, 5, 5])"
      ]
     },
     "execution_count": 106,
     "metadata": {},
     "output_type": "execute_result"
    }
   ],
   "source": [
    "demo_k[(demo_k > 2) | (demo_k <2)]"
   ]
  },
  {
   "cell_type": "markdown",
   "metadata": {},
   "source": [
    "### TASK 10\n",
    "\n",
    "In the code cell below, call `help()` on one of the following functions:\n",
    " + `np.transpose()`\n",
    " + `np.reshape()`\n",
    " + `np.resize()`\n",
    " + `np.ravel()`\n",
    " + `np.append()`\n",
    " + `np.delete()`\n",
    " + `np.concatenate()`\n",
    " + `np.vstack()`\n",
    " + `np.hstack()`\n",
    " + `np.column_stack()`\n",
    " + `np.vsplit()`\n",
    " + `np.hsplit()` "
   ]
  },
  {
   "cell_type": "code",
   "execution_count": 107,
   "metadata": {},
   "outputs": [
    {
     "name": "stdout",
     "output_type": "stream",
     "text": [
      "Help on function ravel in module numpy.core.fromnumeric:\n",
      "\n",
      "ravel(a, order='C')\n",
      "    Return a contiguous flattened array.\n",
      "    \n",
      "    A 1-D array, containing the elements of the input, is returned.  A copy is\n",
      "    made only if needed.\n",
      "    \n",
      "    As of NumPy 1.10, the returned array will have the same type as the input\n",
      "    array. (for example, a masked array will be returned for a masked array\n",
      "    input)\n",
      "    \n",
      "    Parameters\n",
      "    ----------\n",
      "    a : array_like\n",
      "        Input array.  The elements in `a` are read in the order specified by\n",
      "        `order`, and packed as a 1-D array.\n",
      "    order : {'C','F', 'A', 'K'}, optional\n",
      "    \n",
      "        The elements of `a` are read using this index order. 'C' means\n",
      "        to index the elements in row-major, C-style order,\n",
      "        with the last axis index changing fastest, back to the first\n",
      "        axis index changing slowest.  'F' means to index the elements\n",
      "        in column-major, Fortran-style order, with the\n",
      "        first index changing fastest, and the last index changing\n",
      "        slowest. Note that the 'C' and 'F' options take no account of\n",
      "        the memory layout of the underlying array, and only refer to\n",
      "        the order of axis indexing.  'A' means to read the elements in\n",
      "        Fortran-like index order if `a` is Fortran *contiguous* in\n",
      "        memory, C-like order otherwise.  'K' means to read the\n",
      "        elements in the order they occur in memory, except for\n",
      "        reversing the data when strides are negative.  By default, 'C'\n",
      "        index order is used.\n",
      "    \n",
      "    Returns\n",
      "    -------\n",
      "    y : array_like\n",
      "        y is an array of the same subtype as `a`, with shape ``(a.size,)``.\n",
      "        Note that matrices are special cased for backward compatibility, if `a`\n",
      "        is a matrix, then y is a 1-D ndarray.\n",
      "    \n",
      "    See Also\n",
      "    --------\n",
      "    ndarray.flat : 1-D iterator over an array.\n",
      "    ndarray.flatten : 1-D array copy of the elements of an array\n",
      "                      in row-major order.\n",
      "    ndarray.reshape : Change the shape of an array without changing its data.\n",
      "    \n",
      "    Notes\n",
      "    -----\n",
      "    In row-major, C-style order, in two dimensions, the row index\n",
      "    varies the slowest, and the column index the quickest.  This can\n",
      "    be generalized to multiple dimensions, where row-major order\n",
      "    implies that the index along the first axis varies slowest, and\n",
      "    the index along the last quickest.  The opposite holds for\n",
      "    column-major, Fortran-style index ordering.\n",
      "    \n",
      "    When a view is desired in as many cases as possible, ``arr.reshape(-1)``\n",
      "    may be preferable.\n",
      "    \n",
      "    Examples\n",
      "    --------\n",
      "    It is equivalent to ``reshape(-1, order=order)``.\n",
      "    \n",
      "    >>> x = np.array([[1, 2, 3], [4, 5, 6]])\n",
      "    >>> print(np.ravel(x))\n",
      "    [1 2 3 4 5 6]\n",
      "    \n",
      "    >>> print(x.reshape(-1))\n",
      "    [1 2 3 4 5 6]\n",
      "    \n",
      "    >>> print(np.ravel(x, order='F'))\n",
      "    [1 4 2 5 3 6]\n",
      "    \n",
      "    When ``order`` is 'A', it will preserve the array's 'C' or 'F' ordering:\n",
      "    \n",
      "    >>> print(np.ravel(x.T))\n",
      "    [1 4 2 5 3 6]\n",
      "    >>> print(np.ravel(x.T, order='A'))\n",
      "    [1 2 3 4 5 6]\n",
      "    \n",
      "    When ``order`` is 'K', it will preserve orderings that are neither 'C'\n",
      "    nor 'F', but won't reverse axes:\n",
      "    \n",
      "    >>> a = np.arange(3)[::-1]; a\n",
      "    array([2, 1, 0])\n",
      "    >>> a.ravel(order='C')\n",
      "    array([2, 1, 0])\n",
      "    >>> a.ravel(order='K')\n",
      "    array([2, 1, 0])\n",
      "    \n",
      "    >>> a = np.arange(12).reshape(2,3,2).swapaxes(1,2); a\n",
      "    array([[[ 0,  2,  4],\n",
      "            [ 1,  3,  5]],\n",
      "           [[ 6,  8, 10],\n",
      "            [ 7,  9, 11]]])\n",
      "    >>> a.ravel(order='C')\n",
      "    array([ 0,  2,  4,  1,  3,  5,  6,  8, 10,  7,  9, 11])\n",
      "    >>> a.ravel(order='K')\n",
      "    array([ 0,  1,  2,  3,  4,  5,  6,  7,  8,  9, 10, 11])\n",
      "\n"
     ]
    }
   ],
   "source": [
    "help(np.ravel)"
   ]
  },
  {
   "cell_type": "markdown",
   "metadata": {},
   "source": [
    "### Task 11\n",
    "Practice appending matricies to one another. In the code cell below perform the following:\n",
    " + Create a three dimensional array\n",
    " + append another row to the array\n",
    " + append another colum to the array\n",
    " + print the final results"
   ]
  },
  {
   "cell_type": "code",
   "execution_count": 136,
   "metadata": {},
   "outputs": [
    {
     "name": "stdout",
     "output_type": "stream",
     "text": [
      "[[[2 3 4 5]\n",
      "  [1 2 3 4]]\n",
      "\n",
      " [[5 6 7 8]\n",
      "  [1 2 3 4]]]\n",
      "\n",
      "\n",
      "[[[2 3 4 5 7]\n",
      "  [1 2 3 4 8]]\n",
      "\n",
      " [[5 6 7 8 9]\n",
      "  [1 2 3 4 1]]]\n"
     ]
    },
    {
     "ename": "ValueError",
     "evalue": "all the input array dimensions except for the concatenation axis must match exactly",
     "output_type": "error",
     "traceback": [
      "\u001b[1;31m---------------------------------------------------------------------------\u001b[0m",
      "\u001b[1;31mValueError\u001b[0m                                Traceback (most recent call last)",
      "\u001b[1;32m<ipython-input-136-6784b6e72c73>\u001b[0m in \u001b[0;36m<module>\u001b[1;34m\u001b[0m\n\u001b[0;32m      4\u001b[0m \u001b[0mprint\u001b[0m\u001b[1;33m(\u001b[0m\u001b[1;34m\"\\n\"\u001b[0m\u001b[1;33m)\u001b[0m\u001b[1;33m\u001b[0m\u001b[1;33m\u001b[0m\u001b[0m\n\u001b[0;32m      5\u001b[0m \u001b[0mprint\u001b[0m\u001b[1;33m(\u001b[0m\u001b[0myou_array\u001b[0m\u001b[1;33m)\u001b[0m\u001b[1;33m\u001b[0m\u001b[1;33m\u001b[0m\u001b[0m\n\u001b[1;32m----> 6\u001b[1;33m \u001b[0mme_array\u001b[0m \u001b[1;33m=\u001b[0m \u001b[0mnp\u001b[0m\u001b[1;33m.\u001b[0m\u001b[0mappend\u001b[0m\u001b[1;33m(\u001b[0m\u001b[0myou_array\u001b[0m\u001b[1;33m,\u001b[0m \u001b[1;33m[\u001b[0m\u001b[1;33m[\u001b[0m\u001b[1;33m[\u001b[0m\u001b[1;36m7\u001b[0m\u001b[1;33m]\u001b[0m\u001b[1;33m,\u001b[0m \u001b[1;33m[\u001b[0m\u001b[1;36m4\u001b[0m\u001b[1;33m]\u001b[0m\u001b[1;33m,\u001b[0m \u001b[1;33m[\u001b[0m\u001b[1;36m5\u001b[0m\u001b[1;33m]\u001b[0m\u001b[1;33m,\u001b[0m \u001b[1;33m[\u001b[0m\u001b[1;36m4\u001b[0m\u001b[1;33m]\u001b[0m\u001b[1;33m]\u001b[0m\u001b[1;33m]\u001b[0m\u001b[1;33m,\u001b[0m \u001b[0maxis\u001b[0m\u001b[1;33m=\u001b[0m\u001b[1;36m1\u001b[0m\u001b[1;33m)\u001b[0m\u001b[1;33m\u001b[0m\u001b[1;33m\u001b[0m\u001b[0m\n\u001b[0m\u001b[0;32m      7\u001b[0m \u001b[0mprint\u001b[0m\u001b[1;33m(\u001b[0m\u001b[1;34m\"\\n\"\u001b[0m\u001b[1;33m)\u001b[0m\u001b[1;33m\u001b[0m\u001b[1;33m\u001b[0m\u001b[0m\n\u001b[0;32m      8\u001b[0m \u001b[0mprint\u001b[0m\u001b[1;33m(\u001b[0m\u001b[0mme_array\u001b[0m\u001b[1;33m)\u001b[0m\u001b[1;33m\u001b[0m\u001b[1;33m\u001b[0m\u001b[0m\n",
      "\u001b[1;32m~\\Anaconda3\\lib\\site-packages\\numpy\\lib\\function_base.py\u001b[0m in \u001b[0;36mappend\u001b[1;34m(arr, values, axis)\u001b[0m\n\u001b[0;32m   4526\u001b[0m         \u001b[0mvalues\u001b[0m \u001b[1;33m=\u001b[0m \u001b[0mravel\u001b[0m\u001b[1;33m(\u001b[0m\u001b[0mvalues\u001b[0m\u001b[1;33m)\u001b[0m\u001b[1;33m\u001b[0m\u001b[1;33m\u001b[0m\u001b[0m\n\u001b[0;32m   4527\u001b[0m         \u001b[0maxis\u001b[0m \u001b[1;33m=\u001b[0m \u001b[0marr\u001b[0m\u001b[1;33m.\u001b[0m\u001b[0mndim\u001b[0m\u001b[1;33m-\u001b[0m\u001b[1;36m1\u001b[0m\u001b[1;33m\u001b[0m\u001b[1;33m\u001b[0m\u001b[0m\n\u001b[1;32m-> 4528\u001b[1;33m     \u001b[1;32mreturn\u001b[0m \u001b[0mconcatenate\u001b[0m\u001b[1;33m(\u001b[0m\u001b[1;33m(\u001b[0m\u001b[0marr\u001b[0m\u001b[1;33m,\u001b[0m \u001b[0mvalues\u001b[0m\u001b[1;33m)\u001b[0m\u001b[1;33m,\u001b[0m \u001b[0maxis\u001b[0m\u001b[1;33m=\u001b[0m\u001b[0maxis\u001b[0m\u001b[1;33m)\u001b[0m\u001b[1;33m\u001b[0m\u001b[1;33m\u001b[0m\u001b[0m\n\u001b[0m",
      "\u001b[1;31mValueError\u001b[0m: all the input array dimensions except for the concatenation axis must match exactly"
     ]
    }
   ],
   "source": [
    "who_array = np.array([[[2,3,4,5], [1,2,3,4]], [[5,6,7,8], [1,2,3,4]]])\n",
    "print(who_array)\n",
    "you_array = np.append(who_array, [[[7], [8]], [[9], [1]]], axis=2)\n",
    "print(\"\\n\")\n",
    "print(you_array)\n",
    "me_array = np.append(you_array, [[[7], [4], [5], [4]]], axis=1)\n",
    "print(\"\\n\")\n",
    "print(me_array)"
   ]
  },
  {
   "cell_type": "code",
   "execution_count": 131,
   "metadata": {},
   "outputs": [
    {
     "name": "stdout",
     "output_type": "stream",
     "text": [
      "concatenate:\n",
      "[1 2 3 4 1 1 1 1]\n",
      "\n",
      "vstack:\n",
      "[[1 2 3 4]\n",
      " [1 2 3 4]\n",
      " [5 6 7 8]]\n",
      "\n",
      "hstack:\n",
      "[[1 2 3 4 1 2 3 4]\n",
      " [5 6 7 8 5 6 7 8]]\n",
      "\n",
      "column_stack:\n",
      "[[1 2 3 4 1 2 3 4]\n",
      " [5 6 7 8 5 6 7 8]]\n"
     ]
    }
   ],
   "source": [
    "# Concatentate `my_array` and `x`: similar to np.append()\n",
    "my_array = np.array([1,2,3,4])\n",
    "x = np.array([1,1,1,1])\n",
    "print(\"concatenate:\")\n",
    "print(np.concatenate((my_array, x)))\n",
    "\n",
    "# Stack arrays row-wise\n",
    "my_2d_array = np.array([[1,2,3,4], [5,6,7,8]])\n",
    "print(\"\\nvstack:\")\n",
    "print(np.vstack((my_array, my_2d_array)))\n",
    "\n",
    "# Stack arrays horizontally\n",
    "print(\"\\nhstack:\")\n",
    "print(np.hstack((my_2d_array, my_2d_array)))\n",
    "\n",
    "# Stack arrays column-wise\n",
    "print(\"\\ncolumn_stack:\")\n",
    "print(np.column_stack((my_2d_array, my_2d_array)))\n"
   ]
  },
  {
   "cell_type": "markdown",
   "metadata": {},
   "source": [
    "### Task 12\n",
    "Examine the output from each of the function calls in the cell above. Also, review the help pages for each tool either using the `help()` command or the [Numpy Function Reference](https://docs.scipy.org/doc/numpy/reference/routines.html). Can you identify what is happening with each of them?"
   ]
  },
  {
   "cell_type": "code",
   "execution_count": 7,
   "metadata": {},
   "outputs": [],
   "source": [
    "# concatenate adds x to the end of the array along a given axis, assumes flat if none given\n",
    "#vstack stacks the 2nd array vertically under the first\n",
    "#hstack stacks the arrays horrizontally\n",
    "#column stack stacks the array in columns it looks like hstack in a 2d array\n"
   ]
  },
  {
   "cell_type": "code",
   "execution_count": 137,
   "metadata": {},
   "outputs": [
    {
     "name": "stdout",
     "output_type": "stream",
     "text": [
      "original:\n",
      "[[1 2 3 4]\n",
      " [5 6 7 8]]\n",
      "\n",
      "hsplit:\n",
      "[array([[1, 2],\n",
      "       [5, 6]]), array([[3, 4],\n",
      "       [7, 8]])]\n",
      "\n",
      "vsplit:\n",
      "[array([[1, 2, 3, 4]]), array([[5, 6, 7, 8]])]\n"
     ]
    }
   ],
   "source": [
    "# Create a 2D array.\n",
    "my_2d_array = np.array([[1,2,3,4], [5,6,7,8]])\n",
    "print(\"original:\")\n",
    "print(my_2d_array)\n",
    "\n",
    "# Split `my_stacked_array` horizontally at the 2nd index\n",
    "print(\"\\nhsplit:\")\n",
    "print(np.hsplit(my_2d_array, 2))\n",
    "\n",
    "# Split `my_stacked_array` vertically at the 2nd index\n",
    "print(\"\\nvsplit:\")\n",
    "print(np.vsplit(my_2d_array, 2))"
   ]
  },
  {
   "cell_type": "markdown",
   "metadata": {},
   "source": [
    "### Task 13\n",
    "Examine the output from each of the functions used in the cell above. Review the help pages for each tool either using the `help()` command or the [Numpy Function Reference](https://docs.scipy.org/doc/numpy/reference/routines.html). Can you identify what is happening with each of them?"
   ]
  },
  {
   "cell_type": "code",
   "execution_count": null,
   "metadata": {},
   "outputs": [],
   "source": [
    "# hsplit splits the array horrizontally at the second index position\n",
    "# vsplit splits the array vertically at the second index position"
   ]
  }
 ],
 "metadata": {
  "kernelspec": {
   "display_name": "Python 3",
   "language": "python",
   "name": "python3"
  },
  "language_info": {
   "codemirror_mode": {
    "name": "ipython",
    "version": 3
   },
   "file_extension": ".py",
   "mimetype": "text/x-python",
   "name": "python",
   "nbconvert_exporter": "python",
   "pygments_lexer": "ipython3",
   "version": "3.7.1"
  }
 },
 "nbformat": 4,
 "nbformat_minor": 2
}
